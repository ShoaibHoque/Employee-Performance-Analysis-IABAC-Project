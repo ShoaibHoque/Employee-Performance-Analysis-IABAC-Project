{
 "cells": [
  {
   "cell_type": "markdown",
   "metadata": {},
   "source": [
    "# Train the Model\n",
    "We'll start to train model with preprocessed data wich was separated to train the model dedicatedly. For which we'll start with  Splitting into feature and target columns and then we'll select features which affects the target columns more than others and decide about what feature should keep to train and what should not.\n",
    "\n"
   ]
  },
  {
   "cell_type": "markdown",
   "metadata": {},
   "source": [
    "importing necessary libraries"
   ]
  },
  {
   "cell_type": "code",
   "execution_count": 1,
   "metadata": {},
   "outputs": [],
   "source": [
    "import pandas as pd\n",
    "from sklearn.feature_selection import SelectKBest\n",
    "from sklearn.feature_selection import chi2\n",
    "from sklearn.model_selection import train_test_split\n",
    "import warnings\n",
    "warnings.filterwarnings('ignore')\n",
    "from sklearn.linear_model import LogisticRegression\n",
    "from sklearn.metrics import classification_report,accuracy_score\n",
    "from sklearn.naive_bayes import GaussianNB\n",
    "from sklearn.neighbors import KNeighborsClassifier\n",
    "from sklearn import svm\n",
    "from sklearn.naive_bayes import MultinomialNB\n",
    "from sklearn.tree import DecisionTreeClassifier\n",
    "from sklearn.ensemble import RandomForestClassifier\n",
    "from sklearn.ensemble import GradientBoostingClassifier\n",
    "from sklearn.model_selection import GridSearchCV\n",
    "from sklearn.model_selection import RandomizedSearchCV\n",
    "from scipy.stats import uniform\n",
    "from scipy.stats import randint"
   ]
  },
  {
   "cell_type": "code",
   "execution_count": 2,
   "metadata": {},
   "outputs": [
    {
     "data": {
      "text/html": [
       "<div>\n",
       "<style scoped>\n",
       "    .dataframe tbody tr th:only-of-type {\n",
       "        vertical-align: middle;\n",
       "    }\n",
       "\n",
       "    .dataframe tbody tr th {\n",
       "        vertical-align: top;\n",
       "    }\n",
       "\n",
       "    .dataframe thead th {\n",
       "        text-align: right;\n",
       "    }\n",
       "</style>\n",
       "<table border=\"1\" class=\"dataframe\">\n",
       "  <thead>\n",
       "    <tr style=\"text-align: right;\">\n",
       "      <th></th>\n",
       "      <th>Age</th>\n",
       "      <th>Gender</th>\n",
       "      <th>EducationBackground</th>\n",
       "      <th>MaritalStatus</th>\n",
       "      <th>EmpDepartment</th>\n",
       "      <th>EmpJobRole</th>\n",
       "      <th>BusinessTravelFrequency</th>\n",
       "      <th>DistanceFromHome</th>\n",
       "      <th>EmpEducationLevel</th>\n",
       "      <th>EmpEnvironmentSatisfaction</th>\n",
       "      <th>...</th>\n",
       "      <th>EmpRelationshipSatisfaction</th>\n",
       "      <th>TotalWorkExperienceInYears</th>\n",
       "      <th>TrainingTimesLastYear</th>\n",
       "      <th>EmpWorkLifeBalance</th>\n",
       "      <th>ExperienceYearsAtThisCompany</th>\n",
       "      <th>ExperienceYearsInCurrentRole</th>\n",
       "      <th>YearsSinceLastPromotion</th>\n",
       "      <th>YearsWithCurrManager</th>\n",
       "      <th>Attrition</th>\n",
       "      <th>PerformanceRating</th>\n",
       "    </tr>\n",
       "  </thead>\n",
       "  <tbody>\n",
       "    <tr>\n",
       "      <th>0</th>\n",
       "      <td>0.523810</td>\n",
       "      <td>1.0</td>\n",
       "      <td>0.2</td>\n",
       "      <td>0.5</td>\n",
       "      <td>1.0</td>\n",
       "      <td>0.722222</td>\n",
       "      <td>0.5</td>\n",
       "      <td>0.142857</td>\n",
       "      <td>0.75</td>\n",
       "      <td>1.000000</td>\n",
       "      <td>...</td>\n",
       "      <td>0.666667</td>\n",
       "      <td>0.500</td>\n",
       "      <td>0.333333</td>\n",
       "      <td>0.666667</td>\n",
       "      <td>0.450</td>\n",
       "      <td>0.722222</td>\n",
       "      <td>0.066667</td>\n",
       "      <td>0.705882</td>\n",
       "      <td>0.0</td>\n",
       "      <td>4</td>\n",
       "    </tr>\n",
       "    <tr>\n",
       "      <th>1</th>\n",
       "      <td>0.214286</td>\n",
       "      <td>0.0</td>\n",
       "      <td>0.2</td>\n",
       "      <td>1.0</td>\n",
       "      <td>0.8</td>\n",
       "      <td>0.500000</td>\n",
       "      <td>0.5</td>\n",
       "      <td>0.142857</td>\n",
       "      <td>0.25</td>\n",
       "      <td>1.000000</td>\n",
       "      <td>...</td>\n",
       "      <td>0.666667</td>\n",
       "      <td>0.150</td>\n",
       "      <td>0.500000</td>\n",
       "      <td>0.333333</td>\n",
       "      <td>0.125</td>\n",
       "      <td>0.222222</td>\n",
       "      <td>0.000000</td>\n",
       "      <td>0.117647</td>\n",
       "      <td>0.0</td>\n",
       "      <td>3</td>\n",
       "    </tr>\n",
       "    <tr>\n",
       "      <th>2</th>\n",
       "      <td>0.333333</td>\n",
       "      <td>0.0</td>\n",
       "      <td>0.6</td>\n",
       "      <td>1.0</td>\n",
       "      <td>0.8</td>\n",
       "      <td>0.888889</td>\n",
       "      <td>0.0</td>\n",
       "      <td>1.000000</td>\n",
       "      <td>0.75</td>\n",
       "      <td>1.000000</td>\n",
       "      <td>...</td>\n",
       "      <td>0.333333</td>\n",
       "      <td>0.250</td>\n",
       "      <td>0.333333</td>\n",
       "      <td>0.666667</td>\n",
       "      <td>0.200</td>\n",
       "      <td>0.388889</td>\n",
       "      <td>0.466667</td>\n",
       "      <td>0.411765</td>\n",
       "      <td>0.0</td>\n",
       "      <td>3</td>\n",
       "    </tr>\n",
       "    <tr>\n",
       "      <th>3</th>\n",
       "      <td>0.619048</td>\n",
       "      <td>1.0</td>\n",
       "      <td>0.6</td>\n",
       "      <td>1.0</td>\n",
       "      <td>0.8</td>\n",
       "      <td>0.666667</td>\n",
       "      <td>1.0</td>\n",
       "      <td>0.000000</td>\n",
       "      <td>0.50</td>\n",
       "      <td>0.333333</td>\n",
       "      <td>...</td>\n",
       "      <td>0.666667</td>\n",
       "      <td>0.150</td>\n",
       "      <td>0.333333</td>\n",
       "      <td>0.666667</td>\n",
       "      <td>0.100</td>\n",
       "      <td>0.166667</td>\n",
       "      <td>0.066667</td>\n",
       "      <td>0.117647</td>\n",
       "      <td>0.0</td>\n",
       "      <td>2</td>\n",
       "    </tr>\n",
       "    <tr>\n",
       "      <th>4</th>\n",
       "      <td>0.833333</td>\n",
       "      <td>0.0</td>\n",
       "      <td>1.0</td>\n",
       "      <td>0.5</td>\n",
       "      <td>0.8</td>\n",
       "      <td>0.555556</td>\n",
       "      <td>1.0</td>\n",
       "      <td>0.035714</td>\n",
       "      <td>1.00</td>\n",
       "      <td>0.666667</td>\n",
       "      <td>...</td>\n",
       "      <td>0.333333</td>\n",
       "      <td>0.850</td>\n",
       "      <td>0.666667</td>\n",
       "      <td>0.666667</td>\n",
       "      <td>0.825</td>\n",
       "      <td>0.388889</td>\n",
       "      <td>0.066667</td>\n",
       "      <td>0.529412</td>\n",
       "      <td>1.0</td>\n",
       "      <td>3</td>\n",
       "    </tr>\n",
       "    <tr>\n",
       "      <th>...</th>\n",
       "      <td>...</td>\n",
       "      <td>...</td>\n",
       "      <td>...</td>\n",
       "      <td>...</td>\n",
       "      <td>...</td>\n",
       "      <td>...</td>\n",
       "      <td>...</td>\n",
       "      <td>...</td>\n",
       "      <td>...</td>\n",
       "      <td>...</td>\n",
       "      <td>...</td>\n",
       "      <td>...</td>\n",
       "      <td>...</td>\n",
       "      <td>...</td>\n",
       "      <td>...</td>\n",
       "      <td>...</td>\n",
       "      <td>...</td>\n",
       "      <td>...</td>\n",
       "      <td>...</td>\n",
       "      <td>...</td>\n",
       "      <td>...</td>\n",
       "    </tr>\n",
       "    <tr>\n",
       "      <th>955</th>\n",
       "      <td>0.166667</td>\n",
       "      <td>1.0</td>\n",
       "      <td>1.0</td>\n",
       "      <td>0.5</td>\n",
       "      <td>0.8</td>\n",
       "      <td>0.388889</td>\n",
       "      <td>1.0</td>\n",
       "      <td>0.000000</td>\n",
       "      <td>0.50</td>\n",
       "      <td>0.000000</td>\n",
       "      <td>...</td>\n",
       "      <td>0.333333</td>\n",
       "      <td>0.175</td>\n",
       "      <td>0.333333</td>\n",
       "      <td>0.333333</td>\n",
       "      <td>0.075</td>\n",
       "      <td>0.111111</td>\n",
       "      <td>0.000000</td>\n",
       "      <td>0.117647</td>\n",
       "      <td>0.0</td>\n",
       "      <td>3</td>\n",
       "    </tr>\n",
       "    <tr>\n",
       "      <th>956</th>\n",
       "      <td>0.214286</td>\n",
       "      <td>0.0</td>\n",
       "      <td>0.0</td>\n",
       "      <td>0.5</td>\n",
       "      <td>0.6</td>\n",
       "      <td>0.333333</td>\n",
       "      <td>0.5</td>\n",
       "      <td>0.750000</td>\n",
       "      <td>0.50</td>\n",
       "      <td>0.000000</td>\n",
       "      <td>...</td>\n",
       "      <td>0.000000</td>\n",
       "      <td>0.025</td>\n",
       "      <td>0.333333</td>\n",
       "      <td>0.666667</td>\n",
       "      <td>0.025</td>\n",
       "      <td>0.000000</td>\n",
       "      <td>0.000000</td>\n",
       "      <td>0.000000</td>\n",
       "      <td>1.0</td>\n",
       "      <td>3</td>\n",
       "    </tr>\n",
       "    <tr>\n",
       "      <th>957</th>\n",
       "      <td>0.571429</td>\n",
       "      <td>1.0</td>\n",
       "      <td>0.2</td>\n",
       "      <td>0.0</td>\n",
       "      <td>0.8</td>\n",
       "      <td>0.666667</td>\n",
       "      <td>1.0</td>\n",
       "      <td>0.607143</td>\n",
       "      <td>0.75</td>\n",
       "      <td>1.000000</td>\n",
       "      <td>...</td>\n",
       "      <td>0.666667</td>\n",
       "      <td>0.225</td>\n",
       "      <td>0.500000</td>\n",
       "      <td>0.333333</td>\n",
       "      <td>0.100</td>\n",
       "      <td>0.166667</td>\n",
       "      <td>0.066667</td>\n",
       "      <td>0.117647</td>\n",
       "      <td>0.0</td>\n",
       "      <td>3</td>\n",
       "    </tr>\n",
       "    <tr>\n",
       "      <th>958</th>\n",
       "      <td>0.166667</td>\n",
       "      <td>1.0</td>\n",
       "      <td>0.6</td>\n",
       "      <td>0.5</td>\n",
       "      <td>0.2</td>\n",
       "      <td>0.000000</td>\n",
       "      <td>1.0</td>\n",
       "      <td>0.214286</td>\n",
       "      <td>0.00</td>\n",
       "      <td>1.000000</td>\n",
       "      <td>...</td>\n",
       "      <td>0.666667</td>\n",
       "      <td>0.050</td>\n",
       "      <td>0.333333</td>\n",
       "      <td>0.666667</td>\n",
       "      <td>0.050</td>\n",
       "      <td>0.111111</td>\n",
       "      <td>0.133333</td>\n",
       "      <td>0.058824</td>\n",
       "      <td>0.0</td>\n",
       "      <td>3</td>\n",
       "    </tr>\n",
       "    <tr>\n",
       "      <th>959</th>\n",
       "      <td>0.761905</td>\n",
       "      <td>1.0</td>\n",
       "      <td>0.4</td>\n",
       "      <td>0.5</td>\n",
       "      <td>1.0</td>\n",
       "      <td>0.777778</td>\n",
       "      <td>1.0</td>\n",
       "      <td>0.071429</td>\n",
       "      <td>0.25</td>\n",
       "      <td>0.000000</td>\n",
       "      <td>...</td>\n",
       "      <td>0.666667</td>\n",
       "      <td>0.075</td>\n",
       "      <td>0.333333</td>\n",
       "      <td>0.666667</td>\n",
       "      <td>0.075</td>\n",
       "      <td>0.111111</td>\n",
       "      <td>0.000000</td>\n",
       "      <td>0.117647</td>\n",
       "      <td>1.0</td>\n",
       "      <td>3</td>\n",
       "    </tr>\n",
       "  </tbody>\n",
       "</table>\n",
       "<p>960 rows × 27 columns</p>\n",
       "</div>"
      ],
      "text/plain": [
       "          Age  Gender  EducationBackground  MaritalStatus  EmpDepartment  \\\n",
       "0    0.523810     1.0                  0.2            0.5            1.0   \n",
       "1    0.214286     0.0                  0.2            1.0            0.8   \n",
       "2    0.333333     0.0                  0.6            1.0            0.8   \n",
       "3    0.619048     1.0                  0.6            1.0            0.8   \n",
       "4    0.833333     0.0                  1.0            0.5            0.8   \n",
       "..        ...     ...                  ...            ...            ...   \n",
       "955  0.166667     1.0                  1.0            0.5            0.8   \n",
       "956  0.214286     0.0                  0.0            0.5            0.6   \n",
       "957  0.571429     1.0                  0.2            0.0            0.8   \n",
       "958  0.166667     1.0                  0.6            0.5            0.2   \n",
       "959  0.761905     1.0                  0.4            0.5            1.0   \n",
       "\n",
       "     EmpJobRole  BusinessTravelFrequency  DistanceFromHome  EmpEducationLevel  \\\n",
       "0      0.722222                      0.5          0.142857               0.75   \n",
       "1      0.500000                      0.5          0.142857               0.25   \n",
       "2      0.888889                      0.0          1.000000               0.75   \n",
       "3      0.666667                      1.0          0.000000               0.50   \n",
       "4      0.555556                      1.0          0.035714               1.00   \n",
       "..          ...                      ...               ...                ...   \n",
       "955    0.388889                      1.0          0.000000               0.50   \n",
       "956    0.333333                      0.5          0.750000               0.50   \n",
       "957    0.666667                      1.0          0.607143               0.75   \n",
       "958    0.000000                      1.0          0.214286               0.00   \n",
       "959    0.777778                      1.0          0.071429               0.25   \n",
       "\n",
       "     EmpEnvironmentSatisfaction  ...  EmpRelationshipSatisfaction  \\\n",
       "0                      1.000000  ...                     0.666667   \n",
       "1                      1.000000  ...                     0.666667   \n",
       "2                      1.000000  ...                     0.333333   \n",
       "3                      0.333333  ...                     0.666667   \n",
       "4                      0.666667  ...                     0.333333   \n",
       "..                          ...  ...                          ...   \n",
       "955                    0.000000  ...                     0.333333   \n",
       "956                    0.000000  ...                     0.000000   \n",
       "957                    1.000000  ...                     0.666667   \n",
       "958                    1.000000  ...                     0.666667   \n",
       "959                    0.000000  ...                     0.666667   \n",
       "\n",
       "     TotalWorkExperienceInYears  TrainingTimesLastYear  EmpWorkLifeBalance  \\\n",
       "0                         0.500               0.333333            0.666667   \n",
       "1                         0.150               0.500000            0.333333   \n",
       "2                         0.250               0.333333            0.666667   \n",
       "3                         0.150               0.333333            0.666667   \n",
       "4                         0.850               0.666667            0.666667   \n",
       "..                          ...                    ...                 ...   \n",
       "955                       0.175               0.333333            0.333333   \n",
       "956                       0.025               0.333333            0.666667   \n",
       "957                       0.225               0.500000            0.333333   \n",
       "958                       0.050               0.333333            0.666667   \n",
       "959                       0.075               0.333333            0.666667   \n",
       "\n",
       "     ExperienceYearsAtThisCompany  ExperienceYearsInCurrentRole  \\\n",
       "0                           0.450                      0.722222   \n",
       "1                           0.125                      0.222222   \n",
       "2                           0.200                      0.388889   \n",
       "3                           0.100                      0.166667   \n",
       "4                           0.825                      0.388889   \n",
       "..                            ...                           ...   \n",
       "955                         0.075                      0.111111   \n",
       "956                         0.025                      0.000000   \n",
       "957                         0.100                      0.166667   \n",
       "958                         0.050                      0.111111   \n",
       "959                         0.075                      0.111111   \n",
       "\n",
       "     YearsSinceLastPromotion  YearsWithCurrManager  Attrition  \\\n",
       "0                   0.066667              0.705882        0.0   \n",
       "1                   0.000000              0.117647        0.0   \n",
       "2                   0.466667              0.411765        0.0   \n",
       "3                   0.066667              0.117647        0.0   \n",
       "4                   0.066667              0.529412        1.0   \n",
       "..                       ...                   ...        ...   \n",
       "955                 0.000000              0.117647        0.0   \n",
       "956                 0.000000              0.000000        1.0   \n",
       "957                 0.066667              0.117647        0.0   \n",
       "958                 0.133333              0.058824        0.0   \n",
       "959                 0.000000              0.117647        1.0   \n",
       "\n",
       "     PerformanceRating  \n",
       "0                    4  \n",
       "1                    3  \n",
       "2                    3  \n",
       "3                    2  \n",
       "4                    3  \n",
       "..                 ...  \n",
       "955                  3  \n",
       "956                  3  \n",
       "957                  3  \n",
       "958                  3  \n",
       "959                  3  \n",
       "\n",
       "[960 rows x 27 columns]"
      ]
     },
     "execution_count": 2,
     "metadata": {},
     "output_type": "execute_result"
    }
   ],
   "source": [
    "data = pd.read_csv('../../data/processed/train_validation_data_scaled.csv')\n",
    "data"
   ]
  },
  {
   "cell_type": "markdown",
   "metadata": {},
   "source": [
    "### Split feature and target columns"
   ]
  },
  {
   "cell_type": "code",
   "execution_count": 3,
   "metadata": {},
   "outputs": [],
   "source": [
    "X = data.drop('PerformanceRating', axis=1)\n",
    "y = data['PerformanceRating']"
   ]
  },
  {
   "cell_type": "markdown",
   "metadata": {},
   "source": [
    "### Feature Selection: Chi Square Test\n",
    "\n",
    "- Chi square test will check the association between categorical variables \n",
    "\n",
    "- If the association with the target is low, the variables will be dropped."
   ]
  },
  {
   "cell_type": "code",
   "execution_count": 4,
   "metadata": {},
   "outputs": [
    {
     "name": "stdout",
     "output_type": "stream",
     "text": [
      "                   feature_names     Scores\n",
      "16      EmpLastSalaryHikePercent  67.766322\n",
      "9     EmpEnvironmentSatisfaction  46.116146\n",
      "23       YearsSinceLastPromotion  12.191408\n",
      "15                      OverTime   7.756564\n",
      "4                  EmpDepartment   6.955023\n",
      "22  ExperienceYearsInCurrentRole   4.434895\n",
      "24          YearsWithCurrManager   4.119061\n",
      "21  ExperienceYearsAtThisCompany   2.584402\n",
      "25                     Attrition   2.067551\n",
      "12                   EmpJobLevel   1.814980\n",
      "5                     EmpJobRole   1.771901\n",
      "20            EmpWorkLifeBalance   1.623742\n",
      "1                         Gender   0.938957\n",
      "18    TotalWorkExperienceInYears   0.583482\n",
      "10                 EmpHourlyRate   0.582173\n",
      "3                  MaritalStatus   0.478578\n",
      "8              EmpEducationLevel   0.375576\n",
      "6        BusinessTravelFrequency   0.307819\n",
      "7               DistanceFromHome   0.226600\n",
      "19         TrainingTimesLastYear   0.217953\n",
      "0                            Age   0.124409\n",
      "13            EmpJobSatisfaction   0.123089\n",
      "11             EmpJobInvolvement   0.100332\n",
      "17   EmpRelationshipSatisfaction   0.037341\n",
      "14            NumCompaniesWorked   0.001715\n",
      "2            EducationBackground   0.001652\n"
     ]
    }
   ],
   "source": [
    "bestfeatures = SelectKBest(score_func=chi2,k='all')\n",
    "fit = bestfeatures.fit(X,y)\n",
    "\n",
    "dfscores = pd.DataFrame(fit.scores_)\n",
    "dfcolumns = pd.DataFrame(X.columns)\n",
    "\n",
    "featurescores = pd.concat([dfcolumns,dfscores],axis=1)\n",
    "featurescores.columns = ['feature_names','Scores']\n",
    "\n",
    "print(featurescores.nlargest(27,'Scores'))"
   ]
  },
  {
   "cell_type": "markdown",
   "metadata": {},
   "source": [
    "#### Columns that drops\n",
    "\n",
    "The columns are **selected** for training as features which **Chi square test score is above 1**. Accrording to this selected score the columns which falls below 1 and should drops are:  EmpEducationLevel, MaritalStatus, Gender, BusinessTravelFrequency, EmpJobSatisfaction, EmpJobInvolvement, EmpRelationshipSatisfaction, NumCompaniesWorked, EducationBackground, Age, TrainingTimesLastYear, DistanceFromHome."
   ]
  },
  {
   "cell_type": "code",
   "execution_count": 5,
   "metadata": {},
   "outputs": [
    {
     "data": {
      "text/html": [
       "<div>\n",
       "<style scoped>\n",
       "    .dataframe tbody tr th:only-of-type {\n",
       "        vertical-align: middle;\n",
       "    }\n",
       "\n",
       "    .dataframe tbody tr th {\n",
       "        vertical-align: top;\n",
       "    }\n",
       "\n",
       "    .dataframe thead th {\n",
       "        text-align: right;\n",
       "    }\n",
       "</style>\n",
       "<table border=\"1\" class=\"dataframe\">\n",
       "  <thead>\n",
       "    <tr style=\"text-align: right;\">\n",
       "      <th></th>\n",
       "      <th>Age</th>\n",
       "      <th>Gender</th>\n",
       "      <th>EducationBackground</th>\n",
       "      <th>MaritalStatus</th>\n",
       "      <th>EmpDepartment</th>\n",
       "      <th>EmpJobRole</th>\n",
       "      <th>BusinessTravelFrequency</th>\n",
       "      <th>DistanceFromHome</th>\n",
       "      <th>EmpEducationLevel</th>\n",
       "      <th>EmpEnvironmentSatisfaction</th>\n",
       "      <th>...</th>\n",
       "      <th>EmpLastSalaryHikePercent</th>\n",
       "      <th>EmpRelationshipSatisfaction</th>\n",
       "      <th>TotalWorkExperienceInYears</th>\n",
       "      <th>TrainingTimesLastYear</th>\n",
       "      <th>EmpWorkLifeBalance</th>\n",
       "      <th>ExperienceYearsAtThisCompany</th>\n",
       "      <th>ExperienceYearsInCurrentRole</th>\n",
       "      <th>YearsSinceLastPromotion</th>\n",
       "      <th>YearsWithCurrManager</th>\n",
       "      <th>Attrition</th>\n",
       "    </tr>\n",
       "  </thead>\n",
       "  <tbody>\n",
       "    <tr>\n",
       "      <th>0</th>\n",
       "      <td>0.523810</td>\n",
       "      <td>1.0</td>\n",
       "      <td>0.2</td>\n",
       "      <td>0.5</td>\n",
       "      <td>1.0</td>\n",
       "      <td>0.722222</td>\n",
       "      <td>0.5</td>\n",
       "      <td>0.142857</td>\n",
       "      <td>0.75</td>\n",
       "      <td>1.000000</td>\n",
       "      <td>...</td>\n",
       "      <td>0.714286</td>\n",
       "      <td>0.666667</td>\n",
       "      <td>0.500</td>\n",
       "      <td>0.333333</td>\n",
       "      <td>0.666667</td>\n",
       "      <td>0.450</td>\n",
       "      <td>0.722222</td>\n",
       "      <td>0.066667</td>\n",
       "      <td>0.705882</td>\n",
       "      <td>0.0</td>\n",
       "    </tr>\n",
       "    <tr>\n",
       "      <th>1</th>\n",
       "      <td>0.214286</td>\n",
       "      <td>0.0</td>\n",
       "      <td>0.2</td>\n",
       "      <td>1.0</td>\n",
       "      <td>0.8</td>\n",
       "      <td>0.500000</td>\n",
       "      <td>0.5</td>\n",
       "      <td>0.142857</td>\n",
       "      <td>0.25</td>\n",
       "      <td>1.000000</td>\n",
       "      <td>...</td>\n",
       "      <td>0.214286</td>\n",
       "      <td>0.666667</td>\n",
       "      <td>0.150</td>\n",
       "      <td>0.500000</td>\n",
       "      <td>0.333333</td>\n",
       "      <td>0.125</td>\n",
       "      <td>0.222222</td>\n",
       "      <td>0.000000</td>\n",
       "      <td>0.117647</td>\n",
       "      <td>0.0</td>\n",
       "    </tr>\n",
       "    <tr>\n",
       "      <th>2</th>\n",
       "      <td>0.333333</td>\n",
       "      <td>0.0</td>\n",
       "      <td>0.6</td>\n",
       "      <td>1.0</td>\n",
       "      <td>0.8</td>\n",
       "      <td>0.888889</td>\n",
       "      <td>0.0</td>\n",
       "      <td>1.000000</td>\n",
       "      <td>0.75</td>\n",
       "      <td>1.000000</td>\n",
       "      <td>...</td>\n",
       "      <td>0.071429</td>\n",
       "      <td>0.333333</td>\n",
       "      <td>0.250</td>\n",
       "      <td>0.333333</td>\n",
       "      <td>0.666667</td>\n",
       "      <td>0.200</td>\n",
       "      <td>0.388889</td>\n",
       "      <td>0.466667</td>\n",
       "      <td>0.411765</td>\n",
       "      <td>0.0</td>\n",
       "    </tr>\n",
       "    <tr>\n",
       "      <th>3</th>\n",
       "      <td>0.619048</td>\n",
       "      <td>1.0</td>\n",
       "      <td>0.6</td>\n",
       "      <td>1.0</td>\n",
       "      <td>0.8</td>\n",
       "      <td>0.666667</td>\n",
       "      <td>1.0</td>\n",
       "      <td>0.000000</td>\n",
       "      <td>0.50</td>\n",
       "      <td>0.333333</td>\n",
       "      <td>...</td>\n",
       "      <td>0.071429</td>\n",
       "      <td>0.666667</td>\n",
       "      <td>0.150</td>\n",
       "      <td>0.333333</td>\n",
       "      <td>0.666667</td>\n",
       "      <td>0.100</td>\n",
       "      <td>0.166667</td>\n",
       "      <td>0.066667</td>\n",
       "      <td>0.117647</td>\n",
       "      <td>0.0</td>\n",
       "    </tr>\n",
       "    <tr>\n",
       "      <th>4</th>\n",
       "      <td>0.833333</td>\n",
       "      <td>0.0</td>\n",
       "      <td>1.0</td>\n",
       "      <td>0.5</td>\n",
       "      <td>0.8</td>\n",
       "      <td>0.555556</td>\n",
       "      <td>1.0</td>\n",
       "      <td>0.035714</td>\n",
       "      <td>1.00</td>\n",
       "      <td>0.666667</td>\n",
       "      <td>...</td>\n",
       "      <td>0.357143</td>\n",
       "      <td>0.333333</td>\n",
       "      <td>0.850</td>\n",
       "      <td>0.666667</td>\n",
       "      <td>0.666667</td>\n",
       "      <td>0.825</td>\n",
       "      <td>0.388889</td>\n",
       "      <td>0.066667</td>\n",
       "      <td>0.529412</td>\n",
       "      <td>1.0</td>\n",
       "    </tr>\n",
       "    <tr>\n",
       "      <th>...</th>\n",
       "      <td>...</td>\n",
       "      <td>...</td>\n",
       "      <td>...</td>\n",
       "      <td>...</td>\n",
       "      <td>...</td>\n",
       "      <td>...</td>\n",
       "      <td>...</td>\n",
       "      <td>...</td>\n",
       "      <td>...</td>\n",
       "      <td>...</td>\n",
       "      <td>...</td>\n",
       "      <td>...</td>\n",
       "      <td>...</td>\n",
       "      <td>...</td>\n",
       "      <td>...</td>\n",
       "      <td>...</td>\n",
       "      <td>...</td>\n",
       "      <td>...</td>\n",
       "      <td>...</td>\n",
       "      <td>...</td>\n",
       "      <td>...</td>\n",
       "    </tr>\n",
       "    <tr>\n",
       "      <th>955</th>\n",
       "      <td>0.166667</td>\n",
       "      <td>1.0</td>\n",
       "      <td>1.0</td>\n",
       "      <td>0.5</td>\n",
       "      <td>0.8</td>\n",
       "      <td>0.388889</td>\n",
       "      <td>1.0</td>\n",
       "      <td>0.000000</td>\n",
       "      <td>0.50</td>\n",
       "      <td>0.000000</td>\n",
       "      <td>...</td>\n",
       "      <td>0.000000</td>\n",
       "      <td>0.333333</td>\n",
       "      <td>0.175</td>\n",
       "      <td>0.333333</td>\n",
       "      <td>0.333333</td>\n",
       "      <td>0.075</td>\n",
       "      <td>0.111111</td>\n",
       "      <td>0.000000</td>\n",
       "      <td>0.117647</td>\n",
       "      <td>0.0</td>\n",
       "    </tr>\n",
       "    <tr>\n",
       "      <th>956</th>\n",
       "      <td>0.214286</td>\n",
       "      <td>0.0</td>\n",
       "      <td>0.0</td>\n",
       "      <td>0.5</td>\n",
       "      <td>0.6</td>\n",
       "      <td>0.333333</td>\n",
       "      <td>0.5</td>\n",
       "      <td>0.750000</td>\n",
       "      <td>0.50</td>\n",
       "      <td>0.000000</td>\n",
       "      <td>...</td>\n",
       "      <td>0.071429</td>\n",
       "      <td>0.000000</td>\n",
       "      <td>0.025</td>\n",
       "      <td>0.333333</td>\n",
       "      <td>0.666667</td>\n",
       "      <td>0.025</td>\n",
       "      <td>0.000000</td>\n",
       "      <td>0.000000</td>\n",
       "      <td>0.000000</td>\n",
       "      <td>1.0</td>\n",
       "    </tr>\n",
       "    <tr>\n",
       "      <th>957</th>\n",
       "      <td>0.571429</td>\n",
       "      <td>1.0</td>\n",
       "      <td>0.2</td>\n",
       "      <td>0.0</td>\n",
       "      <td>0.8</td>\n",
       "      <td>0.666667</td>\n",
       "      <td>1.0</td>\n",
       "      <td>0.607143</td>\n",
       "      <td>0.75</td>\n",
       "      <td>1.000000</td>\n",
       "      <td>...</td>\n",
       "      <td>0.428571</td>\n",
       "      <td>0.666667</td>\n",
       "      <td>0.225</td>\n",
       "      <td>0.500000</td>\n",
       "      <td>0.333333</td>\n",
       "      <td>0.100</td>\n",
       "      <td>0.166667</td>\n",
       "      <td>0.066667</td>\n",
       "      <td>0.117647</td>\n",
       "      <td>0.0</td>\n",
       "    </tr>\n",
       "    <tr>\n",
       "      <th>958</th>\n",
       "      <td>0.166667</td>\n",
       "      <td>1.0</td>\n",
       "      <td>0.6</td>\n",
       "      <td>0.5</td>\n",
       "      <td>0.2</td>\n",
       "      <td>0.000000</td>\n",
       "      <td>1.0</td>\n",
       "      <td>0.214286</td>\n",
       "      <td>0.00</td>\n",
       "      <td>1.000000</td>\n",
       "      <td>...</td>\n",
       "      <td>0.000000</td>\n",
       "      <td>0.666667</td>\n",
       "      <td>0.050</td>\n",
       "      <td>0.333333</td>\n",
       "      <td>0.666667</td>\n",
       "      <td>0.050</td>\n",
       "      <td>0.111111</td>\n",
       "      <td>0.133333</td>\n",
       "      <td>0.058824</td>\n",
       "      <td>0.0</td>\n",
       "    </tr>\n",
       "    <tr>\n",
       "      <th>959</th>\n",
       "      <td>0.761905</td>\n",
       "      <td>1.0</td>\n",
       "      <td>0.4</td>\n",
       "      <td>0.5</td>\n",
       "      <td>1.0</td>\n",
       "      <td>0.777778</td>\n",
       "      <td>1.0</td>\n",
       "      <td>0.071429</td>\n",
       "      <td>0.25</td>\n",
       "      <td>0.000000</td>\n",
       "      <td>...</td>\n",
       "      <td>0.214286</td>\n",
       "      <td>0.666667</td>\n",
       "      <td>0.075</td>\n",
       "      <td>0.333333</td>\n",
       "      <td>0.666667</td>\n",
       "      <td>0.075</td>\n",
       "      <td>0.111111</td>\n",
       "      <td>0.000000</td>\n",
       "      <td>0.117647</td>\n",
       "      <td>1.0</td>\n",
       "    </tr>\n",
       "  </tbody>\n",
       "</table>\n",
       "<p>960 rows × 26 columns</p>\n",
       "</div>"
      ],
      "text/plain": [
       "          Age  Gender  EducationBackground  MaritalStatus  EmpDepartment  \\\n",
       "0    0.523810     1.0                  0.2            0.5            1.0   \n",
       "1    0.214286     0.0                  0.2            1.0            0.8   \n",
       "2    0.333333     0.0                  0.6            1.0            0.8   \n",
       "3    0.619048     1.0                  0.6            1.0            0.8   \n",
       "4    0.833333     0.0                  1.0            0.5            0.8   \n",
       "..        ...     ...                  ...            ...            ...   \n",
       "955  0.166667     1.0                  1.0            0.5            0.8   \n",
       "956  0.214286     0.0                  0.0            0.5            0.6   \n",
       "957  0.571429     1.0                  0.2            0.0            0.8   \n",
       "958  0.166667     1.0                  0.6            0.5            0.2   \n",
       "959  0.761905     1.0                  0.4            0.5            1.0   \n",
       "\n",
       "     EmpJobRole  BusinessTravelFrequency  DistanceFromHome  EmpEducationLevel  \\\n",
       "0      0.722222                      0.5          0.142857               0.75   \n",
       "1      0.500000                      0.5          0.142857               0.25   \n",
       "2      0.888889                      0.0          1.000000               0.75   \n",
       "3      0.666667                      1.0          0.000000               0.50   \n",
       "4      0.555556                      1.0          0.035714               1.00   \n",
       "..          ...                      ...               ...                ...   \n",
       "955    0.388889                      1.0          0.000000               0.50   \n",
       "956    0.333333                      0.5          0.750000               0.50   \n",
       "957    0.666667                      1.0          0.607143               0.75   \n",
       "958    0.000000                      1.0          0.214286               0.00   \n",
       "959    0.777778                      1.0          0.071429               0.25   \n",
       "\n",
       "     EmpEnvironmentSatisfaction  ...  EmpLastSalaryHikePercent  \\\n",
       "0                      1.000000  ...                  0.714286   \n",
       "1                      1.000000  ...                  0.214286   \n",
       "2                      1.000000  ...                  0.071429   \n",
       "3                      0.333333  ...                  0.071429   \n",
       "4                      0.666667  ...                  0.357143   \n",
       "..                          ...  ...                       ...   \n",
       "955                    0.000000  ...                  0.000000   \n",
       "956                    0.000000  ...                  0.071429   \n",
       "957                    1.000000  ...                  0.428571   \n",
       "958                    1.000000  ...                  0.000000   \n",
       "959                    0.000000  ...                  0.214286   \n",
       "\n",
       "     EmpRelationshipSatisfaction  TotalWorkExperienceInYears  \\\n",
       "0                       0.666667                       0.500   \n",
       "1                       0.666667                       0.150   \n",
       "2                       0.333333                       0.250   \n",
       "3                       0.666667                       0.150   \n",
       "4                       0.333333                       0.850   \n",
       "..                           ...                         ...   \n",
       "955                     0.333333                       0.175   \n",
       "956                     0.000000                       0.025   \n",
       "957                     0.666667                       0.225   \n",
       "958                     0.666667                       0.050   \n",
       "959                     0.666667                       0.075   \n",
       "\n",
       "     TrainingTimesLastYear  EmpWorkLifeBalance  ExperienceYearsAtThisCompany  \\\n",
       "0                 0.333333            0.666667                         0.450   \n",
       "1                 0.500000            0.333333                         0.125   \n",
       "2                 0.333333            0.666667                         0.200   \n",
       "3                 0.333333            0.666667                         0.100   \n",
       "4                 0.666667            0.666667                         0.825   \n",
       "..                     ...                 ...                           ...   \n",
       "955               0.333333            0.333333                         0.075   \n",
       "956               0.333333            0.666667                         0.025   \n",
       "957               0.500000            0.333333                         0.100   \n",
       "958               0.333333            0.666667                         0.050   \n",
       "959               0.333333            0.666667                         0.075   \n",
       "\n",
       "     ExperienceYearsInCurrentRole  YearsSinceLastPromotion  \\\n",
       "0                        0.722222                 0.066667   \n",
       "1                        0.222222                 0.000000   \n",
       "2                        0.388889                 0.466667   \n",
       "3                        0.166667                 0.066667   \n",
       "4                        0.388889                 0.066667   \n",
       "..                            ...                      ...   \n",
       "955                      0.111111                 0.000000   \n",
       "956                      0.000000                 0.000000   \n",
       "957                      0.166667                 0.066667   \n",
       "958                      0.111111                 0.133333   \n",
       "959                      0.111111                 0.000000   \n",
       "\n",
       "     YearsWithCurrManager  Attrition  \n",
       "0                0.705882        0.0  \n",
       "1                0.117647        0.0  \n",
       "2                0.411765        0.0  \n",
       "3                0.117647        0.0  \n",
       "4                0.529412        1.0  \n",
       "..                    ...        ...  \n",
       "955              0.117647        0.0  \n",
       "956              0.000000        1.0  \n",
       "957              0.117647        0.0  \n",
       "958              0.058824        0.0  \n",
       "959              0.117647        1.0  \n",
       "\n",
       "[960 rows x 26 columns]"
      ]
     },
     "execution_count": 5,
     "metadata": {},
     "output_type": "execute_result"
    }
   ],
   "source": [
    "X"
   ]
  },
  {
   "cell_type": "code",
   "execution_count": 6,
   "metadata": {},
   "outputs": [
    {
     "data": {
      "text/html": [
       "<div>\n",
       "<style scoped>\n",
       "    .dataframe tbody tr th:only-of-type {\n",
       "        vertical-align: middle;\n",
       "    }\n",
       "\n",
       "    .dataframe tbody tr th {\n",
       "        vertical-align: top;\n",
       "    }\n",
       "\n",
       "    .dataframe thead th {\n",
       "        text-align: right;\n",
       "    }\n",
       "</style>\n",
       "<table border=\"1\" class=\"dataframe\">\n",
       "  <thead>\n",
       "    <tr style=\"text-align: right;\">\n",
       "      <th></th>\n",
       "      <th>EmpDepartment</th>\n",
       "      <th>EmpJobRole</th>\n",
       "      <th>EmpEnvironmentSatisfaction</th>\n",
       "      <th>EmpHourlyRate</th>\n",
       "      <th>EmpJobLevel</th>\n",
       "      <th>OverTime</th>\n",
       "      <th>EmpLastSalaryHikePercent</th>\n",
       "      <th>TotalWorkExperienceInYears</th>\n",
       "      <th>EmpWorkLifeBalance</th>\n",
       "      <th>ExperienceYearsAtThisCompany</th>\n",
       "      <th>ExperienceYearsInCurrentRole</th>\n",
       "      <th>YearsSinceLastPromotion</th>\n",
       "      <th>YearsWithCurrManager</th>\n",
       "      <th>Attrition</th>\n",
       "    </tr>\n",
       "  </thead>\n",
       "  <tbody>\n",
       "    <tr>\n",
       "      <th>0</th>\n",
       "      <td>1.0</td>\n",
       "      <td>0.722222</td>\n",
       "      <td>1.000000</td>\n",
       "      <td>0.257143</td>\n",
       "      <td>0.50</td>\n",
       "      <td>1.0</td>\n",
       "      <td>0.714286</td>\n",
       "      <td>0.500</td>\n",
       "      <td>0.666667</td>\n",
       "      <td>0.450</td>\n",
       "      <td>0.722222</td>\n",
       "      <td>0.066667</td>\n",
       "      <td>0.705882</td>\n",
       "      <td>0.0</td>\n",
       "    </tr>\n",
       "    <tr>\n",
       "      <th>1</th>\n",
       "      <td>0.8</td>\n",
       "      <td>0.500000</td>\n",
       "      <td>1.000000</td>\n",
       "      <td>0.328571</td>\n",
       "      <td>0.00</td>\n",
       "      <td>1.0</td>\n",
       "      <td>0.214286</td>\n",
       "      <td>0.150</td>\n",
       "      <td>0.333333</td>\n",
       "      <td>0.125</td>\n",
       "      <td>0.222222</td>\n",
       "      <td>0.000000</td>\n",
       "      <td>0.117647</td>\n",
       "      <td>0.0</td>\n",
       "    </tr>\n",
       "    <tr>\n",
       "      <th>2</th>\n",
       "      <td>0.8</td>\n",
       "      <td>0.888889</td>\n",
       "      <td>1.000000</td>\n",
       "      <td>0.557143</td>\n",
       "      <td>0.00</td>\n",
       "      <td>0.0</td>\n",
       "      <td>0.071429</td>\n",
       "      <td>0.250</td>\n",
       "      <td>0.666667</td>\n",
       "      <td>0.200</td>\n",
       "      <td>0.388889</td>\n",
       "      <td>0.466667</td>\n",
       "      <td>0.411765</td>\n",
       "      <td>0.0</td>\n",
       "    </tr>\n",
       "    <tr>\n",
       "      <th>3</th>\n",
       "      <td>0.8</td>\n",
       "      <td>0.666667</td>\n",
       "      <td>0.333333</td>\n",
       "      <td>0.171429</td>\n",
       "      <td>0.00</td>\n",
       "      <td>1.0</td>\n",
       "      <td>0.071429</td>\n",
       "      <td>0.150</td>\n",
       "      <td>0.666667</td>\n",
       "      <td>0.100</td>\n",
       "      <td>0.166667</td>\n",
       "      <td>0.066667</td>\n",
       "      <td>0.117647</td>\n",
       "      <td>0.0</td>\n",
       "    </tr>\n",
       "    <tr>\n",
       "      <th>4</th>\n",
       "      <td>0.8</td>\n",
       "      <td>0.555556</td>\n",
       "      <td>0.666667</td>\n",
       "      <td>0.685714</td>\n",
       "      <td>0.50</td>\n",
       "      <td>0.0</td>\n",
       "      <td>0.357143</td>\n",
       "      <td>0.850</td>\n",
       "      <td>0.666667</td>\n",
       "      <td>0.825</td>\n",
       "      <td>0.388889</td>\n",
       "      <td>0.066667</td>\n",
       "      <td>0.529412</td>\n",
       "      <td>1.0</td>\n",
       "    </tr>\n",
       "    <tr>\n",
       "      <th>...</th>\n",
       "      <td>...</td>\n",
       "      <td>...</td>\n",
       "      <td>...</td>\n",
       "      <td>...</td>\n",
       "      <td>...</td>\n",
       "      <td>...</td>\n",
       "      <td>...</td>\n",
       "      <td>...</td>\n",
       "      <td>...</td>\n",
       "      <td>...</td>\n",
       "      <td>...</td>\n",
       "      <td>...</td>\n",
       "      <td>...</td>\n",
       "      <td>...</td>\n",
       "    </tr>\n",
       "    <tr>\n",
       "      <th>955</th>\n",
       "      <td>0.8</td>\n",
       "      <td>0.388889</td>\n",
       "      <td>0.000000</td>\n",
       "      <td>0.728571</td>\n",
       "      <td>0.00</td>\n",
       "      <td>0.0</td>\n",
       "      <td>0.000000</td>\n",
       "      <td>0.175</td>\n",
       "      <td>0.333333</td>\n",
       "      <td>0.075</td>\n",
       "      <td>0.111111</td>\n",
       "      <td>0.000000</td>\n",
       "      <td>0.117647</td>\n",
       "      <td>0.0</td>\n",
       "    </tr>\n",
       "    <tr>\n",
       "      <th>956</th>\n",
       "      <td>0.6</td>\n",
       "      <td>0.333333</td>\n",
       "      <td>0.000000</td>\n",
       "      <td>0.400000</td>\n",
       "      <td>0.00</td>\n",
       "      <td>0.0</td>\n",
       "      <td>0.071429</td>\n",
       "      <td>0.025</td>\n",
       "      <td>0.666667</td>\n",
       "      <td>0.025</td>\n",
       "      <td>0.000000</td>\n",
       "      <td>0.000000</td>\n",
       "      <td>0.000000</td>\n",
       "      <td>1.0</td>\n",
       "    </tr>\n",
       "    <tr>\n",
       "      <th>957</th>\n",
       "      <td>0.8</td>\n",
       "      <td>0.666667</td>\n",
       "      <td>1.000000</td>\n",
       "      <td>0.071429</td>\n",
       "      <td>0.25</td>\n",
       "      <td>1.0</td>\n",
       "      <td>0.428571</td>\n",
       "      <td>0.225</td>\n",
       "      <td>0.333333</td>\n",
       "      <td>0.100</td>\n",
       "      <td>0.166667</td>\n",
       "      <td>0.066667</td>\n",
       "      <td>0.117647</td>\n",
       "      <td>0.0</td>\n",
       "    </tr>\n",
       "    <tr>\n",
       "      <th>958</th>\n",
       "      <td>0.2</td>\n",
       "      <td>0.000000</td>\n",
       "      <td>1.000000</td>\n",
       "      <td>0.485714</td>\n",
       "      <td>0.00</td>\n",
       "      <td>0.0</td>\n",
       "      <td>0.000000</td>\n",
       "      <td>0.050</td>\n",
       "      <td>0.666667</td>\n",
       "      <td>0.050</td>\n",
       "      <td>0.111111</td>\n",
       "      <td>0.133333</td>\n",
       "      <td>0.058824</td>\n",
       "      <td>0.0</td>\n",
       "    </tr>\n",
       "    <tr>\n",
       "      <th>959</th>\n",
       "      <td>1.0</td>\n",
       "      <td>0.777778</td>\n",
       "      <td>0.000000</td>\n",
       "      <td>0.800000</td>\n",
       "      <td>0.00</td>\n",
       "      <td>1.0</td>\n",
       "      <td>0.214286</td>\n",
       "      <td>0.075</td>\n",
       "      <td>0.666667</td>\n",
       "      <td>0.075</td>\n",
       "      <td>0.111111</td>\n",
       "      <td>0.000000</td>\n",
       "      <td>0.117647</td>\n",
       "      <td>1.0</td>\n",
       "    </tr>\n",
       "  </tbody>\n",
       "</table>\n",
       "<p>960 rows × 14 columns</p>\n",
       "</div>"
      ],
      "text/plain": [
       "     EmpDepartment  EmpJobRole  EmpEnvironmentSatisfaction  EmpHourlyRate  \\\n",
       "0              1.0    0.722222                    1.000000       0.257143   \n",
       "1              0.8    0.500000                    1.000000       0.328571   \n",
       "2              0.8    0.888889                    1.000000       0.557143   \n",
       "3              0.8    0.666667                    0.333333       0.171429   \n",
       "4              0.8    0.555556                    0.666667       0.685714   \n",
       "..             ...         ...                         ...            ...   \n",
       "955            0.8    0.388889                    0.000000       0.728571   \n",
       "956            0.6    0.333333                    0.000000       0.400000   \n",
       "957            0.8    0.666667                    1.000000       0.071429   \n",
       "958            0.2    0.000000                    1.000000       0.485714   \n",
       "959            1.0    0.777778                    0.000000       0.800000   \n",
       "\n",
       "     EmpJobLevel  OverTime  EmpLastSalaryHikePercent  \\\n",
       "0           0.50       1.0                  0.714286   \n",
       "1           0.00       1.0                  0.214286   \n",
       "2           0.00       0.0                  0.071429   \n",
       "3           0.00       1.0                  0.071429   \n",
       "4           0.50       0.0                  0.357143   \n",
       "..           ...       ...                       ...   \n",
       "955         0.00       0.0                  0.000000   \n",
       "956         0.00       0.0                  0.071429   \n",
       "957         0.25       1.0                  0.428571   \n",
       "958         0.00       0.0                  0.000000   \n",
       "959         0.00       1.0                  0.214286   \n",
       "\n",
       "     TotalWorkExperienceInYears  EmpWorkLifeBalance  \\\n",
       "0                         0.500            0.666667   \n",
       "1                         0.150            0.333333   \n",
       "2                         0.250            0.666667   \n",
       "3                         0.150            0.666667   \n",
       "4                         0.850            0.666667   \n",
       "..                          ...                 ...   \n",
       "955                       0.175            0.333333   \n",
       "956                       0.025            0.666667   \n",
       "957                       0.225            0.333333   \n",
       "958                       0.050            0.666667   \n",
       "959                       0.075            0.666667   \n",
       "\n",
       "     ExperienceYearsAtThisCompany  ExperienceYearsInCurrentRole  \\\n",
       "0                           0.450                      0.722222   \n",
       "1                           0.125                      0.222222   \n",
       "2                           0.200                      0.388889   \n",
       "3                           0.100                      0.166667   \n",
       "4                           0.825                      0.388889   \n",
       "..                            ...                           ...   \n",
       "955                         0.075                      0.111111   \n",
       "956                         0.025                      0.000000   \n",
       "957                         0.100                      0.166667   \n",
       "958                         0.050                      0.111111   \n",
       "959                         0.075                      0.111111   \n",
       "\n",
       "     YearsSinceLastPromotion  YearsWithCurrManager  Attrition  \n",
       "0                   0.066667              0.705882        0.0  \n",
       "1                   0.000000              0.117647        0.0  \n",
       "2                   0.466667              0.411765        0.0  \n",
       "3                   0.066667              0.117647        0.0  \n",
       "4                   0.066667              0.529412        1.0  \n",
       "..                       ...                   ...        ...  \n",
       "955                 0.000000              0.117647        0.0  \n",
       "956                 0.000000              0.000000        1.0  \n",
       "957                 0.066667              0.117647        0.0  \n",
       "958                 0.133333              0.058824        0.0  \n",
       "959                 0.000000              0.117647        1.0  \n",
       "\n",
       "[960 rows x 14 columns]"
      ]
     },
     "execution_count": 6,
     "metadata": {},
     "output_type": "execute_result"
    }
   ],
   "source": [
    "X = X.drop(['EmpEducationLevel', 'MaritalStatus', 'Gender', 'BusinessTravelFrequency', 'EmpJobSatisfaction', 'EmpJobInvolvement', 'EmpRelationshipSatisfaction', 'NumCompaniesWorked', 'EducationBackground', 'Age', 'TrainingTimesLastYear','DistanceFromHome'], axis=1)\n",
    "X"
   ]
  },
  {
   "cell_type": "code",
   "execution_count": 7,
   "metadata": {},
   "outputs": [
    {
     "data": {
      "text/plain": [
       "((960, 14), (960,))"
      ]
     },
     "execution_count": 7,
     "metadata": {},
     "output_type": "execute_result"
    }
   ],
   "source": [
    "X.shape, y.shape"
   ]
  },
  {
   "cell_type": "markdown",
   "metadata": {},
   "source": [
    "### Splitting the Training and Testing Data"
   ]
  },
  {
   "cell_type": "code",
   "execution_count": 8,
   "metadata": {},
   "outputs": [],
   "source": [
    "X_train, X_val, y_train, y_val = train_test_split(X,y, random_state=42, test_size=0.20)"
   ]
  },
  {
   "cell_type": "code",
   "execution_count": 9,
   "metadata": {},
   "outputs": [
    {
     "data": {
      "text/plain": [
       "((768, 14), (192, 14), (768,), (192,))"
      ]
     },
     "execution_count": 9,
     "metadata": {},
     "output_type": "execute_result"
    }
   ],
   "source": [
    "X_train.shape, X_val.shape, y_train.shape, y_val.shape"
   ]
  },
  {
   "cell_type": "markdown",
   "metadata": {},
   "source": [
    "# Model Creation"
   ]
  },
  {
   "cell_type": "markdown",
   "metadata": {},
   "source": [
    "### **Logistic Regression**"
   ]
  },
  {
   "cell_type": "code",
   "execution_count": 10,
   "metadata": {},
   "outputs": [
    {
     "data": {
      "text/html": [
       "<style>#sk-container-id-1 {color: black;}#sk-container-id-1 pre{padding: 0;}#sk-container-id-1 div.sk-toggleable {background-color: white;}#sk-container-id-1 label.sk-toggleable__label {cursor: pointer;display: block;width: 100%;margin-bottom: 0;padding: 0.3em;box-sizing: border-box;text-align: center;}#sk-container-id-1 label.sk-toggleable__label-arrow:before {content: \"▸\";float: left;margin-right: 0.25em;color: #696969;}#sk-container-id-1 label.sk-toggleable__label-arrow:hover:before {color: black;}#sk-container-id-1 div.sk-estimator:hover label.sk-toggleable__label-arrow:before {color: black;}#sk-container-id-1 div.sk-toggleable__content {max-height: 0;max-width: 0;overflow: hidden;text-align: left;background-color: #f0f8ff;}#sk-container-id-1 div.sk-toggleable__content pre {margin: 0.2em;color: black;border-radius: 0.25em;background-color: #f0f8ff;}#sk-container-id-1 input.sk-toggleable__control:checked~div.sk-toggleable__content {max-height: 200px;max-width: 100%;overflow: auto;}#sk-container-id-1 input.sk-toggleable__control:checked~label.sk-toggleable__label-arrow:before {content: \"▾\";}#sk-container-id-1 div.sk-estimator input.sk-toggleable__control:checked~label.sk-toggleable__label {background-color: #d4ebff;}#sk-container-id-1 div.sk-label input.sk-toggleable__control:checked~label.sk-toggleable__label {background-color: #d4ebff;}#sk-container-id-1 input.sk-hidden--visually {border: 0;clip: rect(1px 1px 1px 1px);clip: rect(1px, 1px, 1px, 1px);height: 1px;margin: -1px;overflow: hidden;padding: 0;position: absolute;width: 1px;}#sk-container-id-1 div.sk-estimator {font-family: monospace;background-color: #f0f8ff;border: 1px dotted black;border-radius: 0.25em;box-sizing: border-box;margin-bottom: 0.5em;}#sk-container-id-1 div.sk-estimator:hover {background-color: #d4ebff;}#sk-container-id-1 div.sk-parallel-item::after {content: \"\";width: 100%;border-bottom: 1px solid gray;flex-grow: 1;}#sk-container-id-1 div.sk-label:hover label.sk-toggleable__label {background-color: #d4ebff;}#sk-container-id-1 div.sk-serial::before {content: \"\";position: absolute;border-left: 1px solid gray;box-sizing: border-box;top: 0;bottom: 0;left: 50%;z-index: 0;}#sk-container-id-1 div.sk-serial {display: flex;flex-direction: column;align-items: center;background-color: white;padding-right: 0.2em;padding-left: 0.2em;position: relative;}#sk-container-id-1 div.sk-item {position: relative;z-index: 1;}#sk-container-id-1 div.sk-parallel {display: flex;align-items: stretch;justify-content: center;background-color: white;position: relative;}#sk-container-id-1 div.sk-item::before, #sk-container-id-1 div.sk-parallel-item::before {content: \"\";position: absolute;border-left: 1px solid gray;box-sizing: border-box;top: 0;bottom: 0;left: 50%;z-index: -1;}#sk-container-id-1 div.sk-parallel-item {display: flex;flex-direction: column;z-index: 1;position: relative;background-color: white;}#sk-container-id-1 div.sk-parallel-item:first-child::after {align-self: flex-end;width: 50%;}#sk-container-id-1 div.sk-parallel-item:last-child::after {align-self: flex-start;width: 50%;}#sk-container-id-1 div.sk-parallel-item:only-child::after {width: 0;}#sk-container-id-1 div.sk-dashed-wrapped {border: 1px dashed gray;margin: 0 0.4em 0.5em 0.4em;box-sizing: border-box;padding-bottom: 0.4em;background-color: white;}#sk-container-id-1 div.sk-label label {font-family: monospace;font-weight: bold;display: inline-block;line-height: 1.2em;}#sk-container-id-1 div.sk-label-container {text-align: center;}#sk-container-id-1 div.sk-container {/* jupyter's `normalize.less` sets `[hidden] { display: none; }` but bootstrap.min.css set `[hidden] { display: none !important; }` so we also need the `!important` here to be able to override the default hidden behavior on the sphinx rendered scikit-learn.org. See: https://github.com/scikit-learn/scikit-learn/issues/21755 */display: inline-block !important;position: relative;}#sk-container-id-1 div.sk-text-repr-fallback {display: none;}</style><div id=\"sk-container-id-1\" class=\"sk-top-container\"><div class=\"sk-text-repr-fallback\"><pre>LogisticRegression(random_state=42)</pre><b>In a Jupyter environment, please rerun this cell to show the HTML representation or trust the notebook. <br />On GitHub, the HTML representation is unable to render, please try loading this page with nbviewer.org.</b></div><div class=\"sk-container\" hidden><div class=\"sk-item\"><div class=\"sk-estimator sk-toggleable\"><input class=\"sk-toggleable__control sk-hidden--visually\" id=\"sk-estimator-id-1\" type=\"checkbox\" checked><label for=\"sk-estimator-id-1\" class=\"sk-toggleable__label sk-toggleable__label-arrow\">LogisticRegression</label><div class=\"sk-toggleable__content\"><pre>LogisticRegression(random_state=42)</pre></div></div></div></div></div>"
      ],
      "text/plain": [
       "LogisticRegression(random_state=42)"
      ]
     },
     "execution_count": 10,
     "metadata": {},
     "output_type": "execute_result"
    }
   ],
   "source": [
    "logistic = LogisticRegression(random_state=42)\n",
    "logistic.fit(X_train, y_train)"
   ]
  },
  {
   "cell_type": "code",
   "execution_count": 11,
   "metadata": {},
   "outputs": [],
   "source": [
    "logistic_val_pred = logistic.predict(X_val)\n",
    "logistic_train_pred = logistic.predict(X_train)"
   ]
  },
  {
   "cell_type": "code",
   "execution_count": 12,
   "metadata": {},
   "outputs": [
    {
     "name": "stdout",
     "output_type": "stream",
     "text": [
      "Validation Accuracy: 0.8333333333333334\n",
      "Train Accuracy: 0.83203125\n"
     ]
    }
   ],
   "source": [
    "accuracy_val_logistic = accuracy_score(y_val, logistic_val_pred)\n",
    "accuracy_train_logistic = accuracy_score(y_train, logistic_train_pred)\n",
    "\n",
    "print(f\"Validation Accuracy: {accuracy_val_logistic}\")\n",
    "print(f\"Train Accuracy: {accuracy_train_logistic}\")"
   ]
  },
  {
   "cell_type": "code",
   "execution_count": 13,
   "metadata": {},
   "outputs": [
    {
     "name": "stdout",
     "output_type": "stream",
     "text": [
      "              precision    recall  f1-score   support\n",
      "\n",
      "           2       0.57      0.43      0.49        28\n",
      "           3       0.86      0.94      0.90       149\n",
      "           4       0.89      0.53      0.67        15\n",
      "\n",
      "    accuracy                           0.83       192\n",
      "   macro avg       0.77      0.63      0.69       192\n",
      "weighted avg       0.82      0.83      0.82       192\n",
      "\n"
     ]
    }
   ],
   "source": [
    "print(classification_report(y_val, logistic_val_pred))"
   ]
  },
  {
   "cell_type": "markdown",
   "metadata": {},
   "source": [
    "### **Naive Bayes**"
   ]
  },
  {
   "cell_type": "code",
   "execution_count": 14,
   "metadata": {},
   "outputs": [
    {
     "data": {
      "text/html": [
       "<style>#sk-container-id-2 {color: black;}#sk-container-id-2 pre{padding: 0;}#sk-container-id-2 div.sk-toggleable {background-color: white;}#sk-container-id-2 label.sk-toggleable__label {cursor: pointer;display: block;width: 100%;margin-bottom: 0;padding: 0.3em;box-sizing: border-box;text-align: center;}#sk-container-id-2 label.sk-toggleable__label-arrow:before {content: \"▸\";float: left;margin-right: 0.25em;color: #696969;}#sk-container-id-2 label.sk-toggleable__label-arrow:hover:before {color: black;}#sk-container-id-2 div.sk-estimator:hover label.sk-toggleable__label-arrow:before {color: black;}#sk-container-id-2 div.sk-toggleable__content {max-height: 0;max-width: 0;overflow: hidden;text-align: left;background-color: #f0f8ff;}#sk-container-id-2 div.sk-toggleable__content pre {margin: 0.2em;color: black;border-radius: 0.25em;background-color: #f0f8ff;}#sk-container-id-2 input.sk-toggleable__control:checked~div.sk-toggleable__content {max-height: 200px;max-width: 100%;overflow: auto;}#sk-container-id-2 input.sk-toggleable__control:checked~label.sk-toggleable__label-arrow:before {content: \"▾\";}#sk-container-id-2 div.sk-estimator input.sk-toggleable__control:checked~label.sk-toggleable__label {background-color: #d4ebff;}#sk-container-id-2 div.sk-label input.sk-toggleable__control:checked~label.sk-toggleable__label {background-color: #d4ebff;}#sk-container-id-2 input.sk-hidden--visually {border: 0;clip: rect(1px 1px 1px 1px);clip: rect(1px, 1px, 1px, 1px);height: 1px;margin: -1px;overflow: hidden;padding: 0;position: absolute;width: 1px;}#sk-container-id-2 div.sk-estimator {font-family: monospace;background-color: #f0f8ff;border: 1px dotted black;border-radius: 0.25em;box-sizing: border-box;margin-bottom: 0.5em;}#sk-container-id-2 div.sk-estimator:hover {background-color: #d4ebff;}#sk-container-id-2 div.sk-parallel-item::after {content: \"\";width: 100%;border-bottom: 1px solid gray;flex-grow: 1;}#sk-container-id-2 div.sk-label:hover label.sk-toggleable__label {background-color: #d4ebff;}#sk-container-id-2 div.sk-serial::before {content: \"\";position: absolute;border-left: 1px solid gray;box-sizing: border-box;top: 0;bottom: 0;left: 50%;z-index: 0;}#sk-container-id-2 div.sk-serial {display: flex;flex-direction: column;align-items: center;background-color: white;padding-right: 0.2em;padding-left: 0.2em;position: relative;}#sk-container-id-2 div.sk-item {position: relative;z-index: 1;}#sk-container-id-2 div.sk-parallel {display: flex;align-items: stretch;justify-content: center;background-color: white;position: relative;}#sk-container-id-2 div.sk-item::before, #sk-container-id-2 div.sk-parallel-item::before {content: \"\";position: absolute;border-left: 1px solid gray;box-sizing: border-box;top: 0;bottom: 0;left: 50%;z-index: -1;}#sk-container-id-2 div.sk-parallel-item {display: flex;flex-direction: column;z-index: 1;position: relative;background-color: white;}#sk-container-id-2 div.sk-parallel-item:first-child::after {align-self: flex-end;width: 50%;}#sk-container-id-2 div.sk-parallel-item:last-child::after {align-self: flex-start;width: 50%;}#sk-container-id-2 div.sk-parallel-item:only-child::after {width: 0;}#sk-container-id-2 div.sk-dashed-wrapped {border: 1px dashed gray;margin: 0 0.4em 0.5em 0.4em;box-sizing: border-box;padding-bottom: 0.4em;background-color: white;}#sk-container-id-2 div.sk-label label {font-family: monospace;font-weight: bold;display: inline-block;line-height: 1.2em;}#sk-container-id-2 div.sk-label-container {text-align: center;}#sk-container-id-2 div.sk-container {/* jupyter's `normalize.less` sets `[hidden] { display: none; }` but bootstrap.min.css set `[hidden] { display: none !important; }` so we also need the `!important` here to be able to override the default hidden behavior on the sphinx rendered scikit-learn.org. See: https://github.com/scikit-learn/scikit-learn/issues/21755 */display: inline-block !important;position: relative;}#sk-container-id-2 div.sk-text-repr-fallback {display: none;}</style><div id=\"sk-container-id-2\" class=\"sk-top-container\"><div class=\"sk-text-repr-fallback\"><pre>GaussianNB()</pre><b>In a Jupyter environment, please rerun this cell to show the HTML representation or trust the notebook. <br />On GitHub, the HTML representation is unable to render, please try loading this page with nbviewer.org.</b></div><div class=\"sk-container\" hidden><div class=\"sk-item\"><div class=\"sk-estimator sk-toggleable\"><input class=\"sk-toggleable__control sk-hidden--visually\" id=\"sk-estimator-id-2\" type=\"checkbox\" checked><label for=\"sk-estimator-id-2\" class=\"sk-toggleable__label sk-toggleable__label-arrow\">GaussianNB</label><div class=\"sk-toggleable__content\"><pre>GaussianNB()</pre></div></div></div></div></div>"
      ],
      "text/plain": [
       "GaussianNB()"
      ]
     },
     "execution_count": 14,
     "metadata": {},
     "output_type": "execute_result"
    }
   ],
   "source": [
    "gnb = GaussianNB()\n",
    "gnb.fit(X_train, y_train)"
   ]
  },
  {
   "cell_type": "code",
   "execution_count": 15,
   "metadata": {},
   "outputs": [],
   "source": [
    "gnb_val_pred = gnb.predict(X_val)\n",
    "gnb_train_pred = gnb.predict(X_train)"
   ]
  },
  {
   "cell_type": "code",
   "execution_count": 16,
   "metadata": {},
   "outputs": [
    {
     "name": "stdout",
     "output_type": "stream",
     "text": [
      "Validation Accuracy: 0.828125\n",
      "Train Accuracy: 0.8125\n"
     ]
    }
   ],
   "source": [
    "accuracy_val_gnb = accuracy_score(y_val, gnb_val_pred)\n",
    "accuracy_train_gnb = accuracy_score(y_train, gnb_train_pred)\n",
    "\n",
    "print(f\"Validation Accuracy: {accuracy_val_gnb}\")\n",
    "print(f\"Train Accuracy: {accuracy_train_gnb}\")"
   ]
  },
  {
   "cell_type": "code",
   "execution_count": 17,
   "metadata": {},
   "outputs": [
    {
     "name": "stdout",
     "output_type": "stream",
     "text": [
      "              precision    recall  f1-score   support\n",
      "\n",
      "           2       0.54      0.50      0.52        28\n",
      "           3       0.88      0.90      0.89       149\n",
      "           4       0.79      0.73      0.76        15\n",
      "\n",
      "    accuracy                           0.83       192\n",
      "   macro avg       0.74      0.71      0.72       192\n",
      "weighted avg       0.82      0.83      0.83       192\n",
      "\n"
     ]
    }
   ],
   "source": [
    "print(classification_report(y_val, gnb_val_pred))"
   ]
  },
  {
   "cell_type": "markdown",
   "metadata": {},
   "source": [
    "### **KNN Classifier**"
   ]
  },
  {
   "cell_type": "code",
   "execution_count": 18,
   "metadata": {},
   "outputs": [
    {
     "data": {
      "text/html": [
       "<style>#sk-container-id-3 {color: black;}#sk-container-id-3 pre{padding: 0;}#sk-container-id-3 div.sk-toggleable {background-color: white;}#sk-container-id-3 label.sk-toggleable__label {cursor: pointer;display: block;width: 100%;margin-bottom: 0;padding: 0.3em;box-sizing: border-box;text-align: center;}#sk-container-id-3 label.sk-toggleable__label-arrow:before {content: \"▸\";float: left;margin-right: 0.25em;color: #696969;}#sk-container-id-3 label.sk-toggleable__label-arrow:hover:before {color: black;}#sk-container-id-3 div.sk-estimator:hover label.sk-toggleable__label-arrow:before {color: black;}#sk-container-id-3 div.sk-toggleable__content {max-height: 0;max-width: 0;overflow: hidden;text-align: left;background-color: #f0f8ff;}#sk-container-id-3 div.sk-toggleable__content pre {margin: 0.2em;color: black;border-radius: 0.25em;background-color: #f0f8ff;}#sk-container-id-3 input.sk-toggleable__control:checked~div.sk-toggleable__content {max-height: 200px;max-width: 100%;overflow: auto;}#sk-container-id-3 input.sk-toggleable__control:checked~label.sk-toggleable__label-arrow:before {content: \"▾\";}#sk-container-id-3 div.sk-estimator input.sk-toggleable__control:checked~label.sk-toggleable__label {background-color: #d4ebff;}#sk-container-id-3 div.sk-label input.sk-toggleable__control:checked~label.sk-toggleable__label {background-color: #d4ebff;}#sk-container-id-3 input.sk-hidden--visually {border: 0;clip: rect(1px 1px 1px 1px);clip: rect(1px, 1px, 1px, 1px);height: 1px;margin: -1px;overflow: hidden;padding: 0;position: absolute;width: 1px;}#sk-container-id-3 div.sk-estimator {font-family: monospace;background-color: #f0f8ff;border: 1px dotted black;border-radius: 0.25em;box-sizing: border-box;margin-bottom: 0.5em;}#sk-container-id-3 div.sk-estimator:hover {background-color: #d4ebff;}#sk-container-id-3 div.sk-parallel-item::after {content: \"\";width: 100%;border-bottom: 1px solid gray;flex-grow: 1;}#sk-container-id-3 div.sk-label:hover label.sk-toggleable__label {background-color: #d4ebff;}#sk-container-id-3 div.sk-serial::before {content: \"\";position: absolute;border-left: 1px solid gray;box-sizing: border-box;top: 0;bottom: 0;left: 50%;z-index: 0;}#sk-container-id-3 div.sk-serial {display: flex;flex-direction: column;align-items: center;background-color: white;padding-right: 0.2em;padding-left: 0.2em;position: relative;}#sk-container-id-3 div.sk-item {position: relative;z-index: 1;}#sk-container-id-3 div.sk-parallel {display: flex;align-items: stretch;justify-content: center;background-color: white;position: relative;}#sk-container-id-3 div.sk-item::before, #sk-container-id-3 div.sk-parallel-item::before {content: \"\";position: absolute;border-left: 1px solid gray;box-sizing: border-box;top: 0;bottom: 0;left: 50%;z-index: -1;}#sk-container-id-3 div.sk-parallel-item {display: flex;flex-direction: column;z-index: 1;position: relative;background-color: white;}#sk-container-id-3 div.sk-parallel-item:first-child::after {align-self: flex-end;width: 50%;}#sk-container-id-3 div.sk-parallel-item:last-child::after {align-self: flex-start;width: 50%;}#sk-container-id-3 div.sk-parallel-item:only-child::after {width: 0;}#sk-container-id-3 div.sk-dashed-wrapped {border: 1px dashed gray;margin: 0 0.4em 0.5em 0.4em;box-sizing: border-box;padding-bottom: 0.4em;background-color: white;}#sk-container-id-3 div.sk-label label {font-family: monospace;font-weight: bold;display: inline-block;line-height: 1.2em;}#sk-container-id-3 div.sk-label-container {text-align: center;}#sk-container-id-3 div.sk-container {/* jupyter's `normalize.less` sets `[hidden] { display: none; }` but bootstrap.min.css set `[hidden] { display: none !important; }` so we also need the `!important` here to be able to override the default hidden behavior on the sphinx rendered scikit-learn.org. See: https://github.com/scikit-learn/scikit-learn/issues/21755 */display: inline-block !important;position: relative;}#sk-container-id-3 div.sk-text-repr-fallback {display: none;}</style><div id=\"sk-container-id-3\" class=\"sk-top-container\"><div class=\"sk-text-repr-fallback\"><pre>KNeighborsClassifier(metric=&#x27;euclidean&#x27;)</pre><b>In a Jupyter environment, please rerun this cell to show the HTML representation or trust the notebook. <br />On GitHub, the HTML representation is unable to render, please try loading this page with nbviewer.org.</b></div><div class=\"sk-container\" hidden><div class=\"sk-item\"><div class=\"sk-estimator sk-toggleable\"><input class=\"sk-toggleable__control sk-hidden--visually\" id=\"sk-estimator-id-3\" type=\"checkbox\" checked><label for=\"sk-estimator-id-3\" class=\"sk-toggleable__label sk-toggleable__label-arrow\">KNeighborsClassifier</label><div class=\"sk-toggleable__content\"><pre>KNeighborsClassifier(metric=&#x27;euclidean&#x27;)</pre></div></div></div></div></div>"
      ],
      "text/plain": [
       "KNeighborsClassifier(metric='euclidean')"
      ]
     },
     "execution_count": 18,
     "metadata": {},
     "output_type": "execute_result"
    }
   ],
   "source": [
    "knn = KNeighborsClassifier(n_neighbors=5, metric='euclidean')\n",
    "knn.fit(X_train, y_train)"
   ]
  },
  {
   "cell_type": "code",
   "execution_count": 19,
   "metadata": {},
   "outputs": [],
   "source": [
    "knn_val_pred = knn.predict(X_val)\n",
    "knn_train_pred = knn.predict(X_train)"
   ]
  },
  {
   "cell_type": "code",
   "execution_count": 20,
   "metadata": {},
   "outputs": [
    {
     "name": "stdout",
     "output_type": "stream",
     "text": [
      "Validation Accuracy: 0.828125\n",
      "Train Accuracy: 0.8463541666666666\n"
     ]
    }
   ],
   "source": [
    "accuracy_val_knn = accuracy_score(y_val, knn_val_pred)\n",
    "accuracy_train_knn = accuracy_score(y_train, knn_train_pred)\n",
    "\n",
    "print(f\"Validation Accuracy: {accuracy_val_knn}\")\n",
    "print(f\"Train Accuracy: {accuracy_train_knn}\")"
   ]
  },
  {
   "cell_type": "code",
   "execution_count": 21,
   "metadata": {},
   "outputs": [
    {
     "name": "stdout",
     "output_type": "stream",
     "text": [
      "              precision    recall  f1-score   support\n",
      "\n",
      "           2       0.71      0.61      0.65        28\n",
      "           3       0.86      0.93      0.89       149\n",
      "           4       0.50      0.27      0.35        15\n",
      "\n",
      "    accuracy                           0.83       192\n",
      "   macro avg       0.69      0.60      0.63       192\n",
      "weighted avg       0.81      0.83      0.82       192\n",
      "\n"
     ]
    }
   ],
   "source": [
    "print(classification_report(y_val, knn_val_pred))"
   ]
  },
  {
   "cell_type": "markdown",
   "metadata": {},
   "source": [
    "### **SVM Classifier**"
   ]
  },
  {
   "cell_type": "code",
   "execution_count": 22,
   "metadata": {},
   "outputs": [
    {
     "data": {
      "text/html": [
       "<style>#sk-container-id-4 {color: black;}#sk-container-id-4 pre{padding: 0;}#sk-container-id-4 div.sk-toggleable {background-color: white;}#sk-container-id-4 label.sk-toggleable__label {cursor: pointer;display: block;width: 100%;margin-bottom: 0;padding: 0.3em;box-sizing: border-box;text-align: center;}#sk-container-id-4 label.sk-toggleable__label-arrow:before {content: \"▸\";float: left;margin-right: 0.25em;color: #696969;}#sk-container-id-4 label.sk-toggleable__label-arrow:hover:before {color: black;}#sk-container-id-4 div.sk-estimator:hover label.sk-toggleable__label-arrow:before {color: black;}#sk-container-id-4 div.sk-toggleable__content {max-height: 0;max-width: 0;overflow: hidden;text-align: left;background-color: #f0f8ff;}#sk-container-id-4 div.sk-toggleable__content pre {margin: 0.2em;color: black;border-radius: 0.25em;background-color: #f0f8ff;}#sk-container-id-4 input.sk-toggleable__control:checked~div.sk-toggleable__content {max-height: 200px;max-width: 100%;overflow: auto;}#sk-container-id-4 input.sk-toggleable__control:checked~label.sk-toggleable__label-arrow:before {content: \"▾\";}#sk-container-id-4 div.sk-estimator input.sk-toggleable__control:checked~label.sk-toggleable__label {background-color: #d4ebff;}#sk-container-id-4 div.sk-label input.sk-toggleable__control:checked~label.sk-toggleable__label {background-color: #d4ebff;}#sk-container-id-4 input.sk-hidden--visually {border: 0;clip: rect(1px 1px 1px 1px);clip: rect(1px, 1px, 1px, 1px);height: 1px;margin: -1px;overflow: hidden;padding: 0;position: absolute;width: 1px;}#sk-container-id-4 div.sk-estimator {font-family: monospace;background-color: #f0f8ff;border: 1px dotted black;border-radius: 0.25em;box-sizing: border-box;margin-bottom: 0.5em;}#sk-container-id-4 div.sk-estimator:hover {background-color: #d4ebff;}#sk-container-id-4 div.sk-parallel-item::after {content: \"\";width: 100%;border-bottom: 1px solid gray;flex-grow: 1;}#sk-container-id-4 div.sk-label:hover label.sk-toggleable__label {background-color: #d4ebff;}#sk-container-id-4 div.sk-serial::before {content: \"\";position: absolute;border-left: 1px solid gray;box-sizing: border-box;top: 0;bottom: 0;left: 50%;z-index: 0;}#sk-container-id-4 div.sk-serial {display: flex;flex-direction: column;align-items: center;background-color: white;padding-right: 0.2em;padding-left: 0.2em;position: relative;}#sk-container-id-4 div.sk-item {position: relative;z-index: 1;}#sk-container-id-4 div.sk-parallel {display: flex;align-items: stretch;justify-content: center;background-color: white;position: relative;}#sk-container-id-4 div.sk-item::before, #sk-container-id-4 div.sk-parallel-item::before {content: \"\";position: absolute;border-left: 1px solid gray;box-sizing: border-box;top: 0;bottom: 0;left: 50%;z-index: -1;}#sk-container-id-4 div.sk-parallel-item {display: flex;flex-direction: column;z-index: 1;position: relative;background-color: white;}#sk-container-id-4 div.sk-parallel-item:first-child::after {align-self: flex-end;width: 50%;}#sk-container-id-4 div.sk-parallel-item:last-child::after {align-self: flex-start;width: 50%;}#sk-container-id-4 div.sk-parallel-item:only-child::after {width: 0;}#sk-container-id-4 div.sk-dashed-wrapped {border: 1px dashed gray;margin: 0 0.4em 0.5em 0.4em;box-sizing: border-box;padding-bottom: 0.4em;background-color: white;}#sk-container-id-4 div.sk-label label {font-family: monospace;font-weight: bold;display: inline-block;line-height: 1.2em;}#sk-container-id-4 div.sk-label-container {text-align: center;}#sk-container-id-4 div.sk-container {/* jupyter's `normalize.less` sets `[hidden] { display: none; }` but bootstrap.min.css set `[hidden] { display: none !important; }` so we also need the `!important` here to be able to override the default hidden behavior on the sphinx rendered scikit-learn.org. See: https://github.com/scikit-learn/scikit-learn/issues/21755 */display: inline-block !important;position: relative;}#sk-container-id-4 div.sk-text-repr-fallback {display: none;}</style><div id=\"sk-container-id-4\" class=\"sk-top-container\"><div class=\"sk-text-repr-fallback\"><pre>SVC(C=10, gamma=0.1, random_state=42)</pre><b>In a Jupyter environment, please rerun this cell to show the HTML representation or trust the notebook. <br />On GitHub, the HTML representation is unable to render, please try loading this page with nbviewer.org.</b></div><div class=\"sk-container\" hidden><div class=\"sk-item\"><div class=\"sk-estimator sk-toggleable\"><input class=\"sk-toggleable__control sk-hidden--visually\" id=\"sk-estimator-id-4\" type=\"checkbox\" checked><label for=\"sk-estimator-id-4\" class=\"sk-toggleable__label sk-toggleable__label-arrow\">SVC</label><div class=\"sk-toggleable__content\"><pre>SVC(C=10, gamma=0.1, random_state=42)</pre></div></div></div></div></div>"
      ],
      "text/plain": [
       "SVC(C=10, gamma=0.1, random_state=42)"
      ]
     },
     "execution_count": 22,
     "metadata": {},
     "output_type": "execute_result"
    }
   ],
   "source": [
    "svm_clf = svm.SVC(kernel='rbf', C = 10, gamma = 0.1, random_state=42)\n",
    "svm_clf.fit(X_train, y_train)"
   ]
  },
  {
   "cell_type": "code",
   "execution_count": 23,
   "metadata": {},
   "outputs": [],
   "source": [
    "svm_val_pred = svm_clf.predict(X_val)\n",
    "svm_train_pred = svm_clf.predict(X_train)"
   ]
  },
  {
   "cell_type": "code",
   "execution_count": 24,
   "metadata": {},
   "outputs": [
    {
     "name": "stdout",
     "output_type": "stream",
     "text": [
      "Validation Accuracy: 0.8489583333333334\n",
      "Train Accuracy: 0.8658854166666666\n"
     ]
    }
   ],
   "source": [
    "accuracy_val_svm = accuracy_score(y_val, svm_val_pred)\n",
    "accuracy_train_svm = accuracy_score(y_train, svm_train_pred)\n",
    "\n",
    "print(f\"Validation Accuracy: {accuracy_val_svm}\")\n",
    "print(f\"Train Accuracy: {accuracy_train_svm}\")"
   ]
  },
  {
   "cell_type": "code",
   "execution_count": 25,
   "metadata": {},
   "outputs": [
    {
     "name": "stdout",
     "output_type": "stream",
     "text": [
      "              precision    recall  f1-score   support\n",
      "\n",
      "           2       0.65      0.54      0.59        28\n",
      "           3       0.88      0.93      0.91       149\n",
      "           4       0.82      0.60      0.69        15\n",
      "\n",
      "    accuracy                           0.85       192\n",
      "   macro avg       0.78      0.69      0.73       192\n",
      "weighted avg       0.84      0.85      0.84       192\n",
      "\n"
     ]
    }
   ],
   "source": [
    "print(classification_report(y_val, svm_val_pred))"
   ]
  },
  {
   "cell_type": "markdown",
   "metadata": {},
   "source": [
    "### **Decision Tree Classifier**"
   ]
  },
  {
   "cell_type": "code",
   "execution_count": 26,
   "metadata": {},
   "outputs": [
    {
     "data": {
      "text/html": [
       "<style>#sk-container-id-5 {color: black;}#sk-container-id-5 pre{padding: 0;}#sk-container-id-5 div.sk-toggleable {background-color: white;}#sk-container-id-5 label.sk-toggleable__label {cursor: pointer;display: block;width: 100%;margin-bottom: 0;padding: 0.3em;box-sizing: border-box;text-align: center;}#sk-container-id-5 label.sk-toggleable__label-arrow:before {content: \"▸\";float: left;margin-right: 0.25em;color: #696969;}#sk-container-id-5 label.sk-toggleable__label-arrow:hover:before {color: black;}#sk-container-id-5 div.sk-estimator:hover label.sk-toggleable__label-arrow:before {color: black;}#sk-container-id-5 div.sk-toggleable__content {max-height: 0;max-width: 0;overflow: hidden;text-align: left;background-color: #f0f8ff;}#sk-container-id-5 div.sk-toggleable__content pre {margin: 0.2em;color: black;border-radius: 0.25em;background-color: #f0f8ff;}#sk-container-id-5 input.sk-toggleable__control:checked~div.sk-toggleable__content {max-height: 200px;max-width: 100%;overflow: auto;}#sk-container-id-5 input.sk-toggleable__control:checked~label.sk-toggleable__label-arrow:before {content: \"▾\";}#sk-container-id-5 div.sk-estimator input.sk-toggleable__control:checked~label.sk-toggleable__label {background-color: #d4ebff;}#sk-container-id-5 div.sk-label input.sk-toggleable__control:checked~label.sk-toggleable__label {background-color: #d4ebff;}#sk-container-id-5 input.sk-hidden--visually {border: 0;clip: rect(1px 1px 1px 1px);clip: rect(1px, 1px, 1px, 1px);height: 1px;margin: -1px;overflow: hidden;padding: 0;position: absolute;width: 1px;}#sk-container-id-5 div.sk-estimator {font-family: monospace;background-color: #f0f8ff;border: 1px dotted black;border-radius: 0.25em;box-sizing: border-box;margin-bottom: 0.5em;}#sk-container-id-5 div.sk-estimator:hover {background-color: #d4ebff;}#sk-container-id-5 div.sk-parallel-item::after {content: \"\";width: 100%;border-bottom: 1px solid gray;flex-grow: 1;}#sk-container-id-5 div.sk-label:hover label.sk-toggleable__label {background-color: #d4ebff;}#sk-container-id-5 div.sk-serial::before {content: \"\";position: absolute;border-left: 1px solid gray;box-sizing: border-box;top: 0;bottom: 0;left: 50%;z-index: 0;}#sk-container-id-5 div.sk-serial {display: flex;flex-direction: column;align-items: center;background-color: white;padding-right: 0.2em;padding-left: 0.2em;position: relative;}#sk-container-id-5 div.sk-item {position: relative;z-index: 1;}#sk-container-id-5 div.sk-parallel {display: flex;align-items: stretch;justify-content: center;background-color: white;position: relative;}#sk-container-id-5 div.sk-item::before, #sk-container-id-5 div.sk-parallel-item::before {content: \"\";position: absolute;border-left: 1px solid gray;box-sizing: border-box;top: 0;bottom: 0;left: 50%;z-index: -1;}#sk-container-id-5 div.sk-parallel-item {display: flex;flex-direction: column;z-index: 1;position: relative;background-color: white;}#sk-container-id-5 div.sk-parallel-item:first-child::after {align-self: flex-end;width: 50%;}#sk-container-id-5 div.sk-parallel-item:last-child::after {align-self: flex-start;width: 50%;}#sk-container-id-5 div.sk-parallel-item:only-child::after {width: 0;}#sk-container-id-5 div.sk-dashed-wrapped {border: 1px dashed gray;margin: 0 0.4em 0.5em 0.4em;box-sizing: border-box;padding-bottom: 0.4em;background-color: white;}#sk-container-id-5 div.sk-label label {font-family: monospace;font-weight: bold;display: inline-block;line-height: 1.2em;}#sk-container-id-5 div.sk-label-container {text-align: center;}#sk-container-id-5 div.sk-container {/* jupyter's `normalize.less` sets `[hidden] { display: none; }` but bootstrap.min.css set `[hidden] { display: none !important; }` so we also need the `!important` here to be able to override the default hidden behavior on the sphinx rendered scikit-learn.org. See: https://github.com/scikit-learn/scikit-learn/issues/21755 */display: inline-block !important;position: relative;}#sk-container-id-5 div.sk-text-repr-fallback {display: none;}</style><div id=\"sk-container-id-5\" class=\"sk-top-container\"><div class=\"sk-text-repr-fallback\"><pre>DecisionTreeClassifier(random_state=42)</pre><b>In a Jupyter environment, please rerun this cell to show the HTML representation or trust the notebook. <br />On GitHub, the HTML representation is unable to render, please try loading this page with nbviewer.org.</b></div><div class=\"sk-container\" hidden><div class=\"sk-item\"><div class=\"sk-estimator sk-toggleable\"><input class=\"sk-toggleable__control sk-hidden--visually\" id=\"sk-estimator-id-5\" type=\"checkbox\" checked><label for=\"sk-estimator-id-5\" class=\"sk-toggleable__label sk-toggleable__label-arrow\">DecisionTreeClassifier</label><div class=\"sk-toggleable__content\"><pre>DecisionTreeClassifier(random_state=42)</pre></div></div></div></div></div>"
      ],
      "text/plain": [
       "DecisionTreeClassifier(random_state=42)"
      ]
     },
     "execution_count": 26,
     "metadata": {},
     "output_type": "execute_result"
    }
   ],
   "source": [
    "dt = DecisionTreeClassifier(random_state=42)\n",
    "dt.fit(X_train, y_train)"
   ]
  },
  {
   "cell_type": "code",
   "execution_count": 27,
   "metadata": {},
   "outputs": [],
   "source": [
    "dt_val_pred = dt.predict(X_val)\n",
    "dt_train_pred = dt.predict(X_train)"
   ]
  },
  {
   "cell_type": "code",
   "execution_count": 28,
   "metadata": {},
   "outputs": [
    {
     "name": "stdout",
     "output_type": "stream",
     "text": [
      "Validation Accuracy: 0.8958333333333334\n",
      "Train Accuracy: 1.0\n"
     ]
    }
   ],
   "source": [
    "accuracy_val_dt = accuracy_score(y_val, dt_val_pred)\n",
    "accuracy_train_dt = accuracy_score(y_train, dt_train_pred)\n",
    "\n",
    "print(f\"Validation Accuracy: {accuracy_val_dt}\")\n",
    "print(f\"Train Accuracy: {accuracy_train_dt}\")"
   ]
  },
  {
   "cell_type": "code",
   "execution_count": 29,
   "metadata": {},
   "outputs": [
    {
     "name": "stdout",
     "output_type": "stream",
     "text": [
      "              precision    recall  f1-score   support\n",
      "\n",
      "           2       0.73      0.79      0.76        28\n",
      "           3       0.95      0.92      0.94       149\n",
      "           4       0.72      0.87      0.79        15\n",
      "\n",
      "    accuracy                           0.90       192\n",
      "   macro avg       0.80      0.86      0.83       192\n",
      "weighted avg       0.90      0.90      0.90       192\n",
      "\n"
     ]
    }
   ],
   "source": [
    "print(classification_report(y_val, dt_val_pred))"
   ]
  },
  {
   "cell_type": "markdown",
   "metadata": {},
   "source": [
    "### **Random Forest Classifier**"
   ]
  },
  {
   "cell_type": "code",
   "execution_count": 30,
   "metadata": {},
   "outputs": [
    {
     "data": {
      "text/html": [
       "<style>#sk-container-id-6 {color: black;}#sk-container-id-6 pre{padding: 0;}#sk-container-id-6 div.sk-toggleable {background-color: white;}#sk-container-id-6 label.sk-toggleable__label {cursor: pointer;display: block;width: 100%;margin-bottom: 0;padding: 0.3em;box-sizing: border-box;text-align: center;}#sk-container-id-6 label.sk-toggleable__label-arrow:before {content: \"▸\";float: left;margin-right: 0.25em;color: #696969;}#sk-container-id-6 label.sk-toggleable__label-arrow:hover:before {color: black;}#sk-container-id-6 div.sk-estimator:hover label.sk-toggleable__label-arrow:before {color: black;}#sk-container-id-6 div.sk-toggleable__content {max-height: 0;max-width: 0;overflow: hidden;text-align: left;background-color: #f0f8ff;}#sk-container-id-6 div.sk-toggleable__content pre {margin: 0.2em;color: black;border-radius: 0.25em;background-color: #f0f8ff;}#sk-container-id-6 input.sk-toggleable__control:checked~div.sk-toggleable__content {max-height: 200px;max-width: 100%;overflow: auto;}#sk-container-id-6 input.sk-toggleable__control:checked~label.sk-toggleable__label-arrow:before {content: \"▾\";}#sk-container-id-6 div.sk-estimator input.sk-toggleable__control:checked~label.sk-toggleable__label {background-color: #d4ebff;}#sk-container-id-6 div.sk-label input.sk-toggleable__control:checked~label.sk-toggleable__label {background-color: #d4ebff;}#sk-container-id-6 input.sk-hidden--visually {border: 0;clip: rect(1px 1px 1px 1px);clip: rect(1px, 1px, 1px, 1px);height: 1px;margin: -1px;overflow: hidden;padding: 0;position: absolute;width: 1px;}#sk-container-id-6 div.sk-estimator {font-family: monospace;background-color: #f0f8ff;border: 1px dotted black;border-radius: 0.25em;box-sizing: border-box;margin-bottom: 0.5em;}#sk-container-id-6 div.sk-estimator:hover {background-color: #d4ebff;}#sk-container-id-6 div.sk-parallel-item::after {content: \"\";width: 100%;border-bottom: 1px solid gray;flex-grow: 1;}#sk-container-id-6 div.sk-label:hover label.sk-toggleable__label {background-color: #d4ebff;}#sk-container-id-6 div.sk-serial::before {content: \"\";position: absolute;border-left: 1px solid gray;box-sizing: border-box;top: 0;bottom: 0;left: 50%;z-index: 0;}#sk-container-id-6 div.sk-serial {display: flex;flex-direction: column;align-items: center;background-color: white;padding-right: 0.2em;padding-left: 0.2em;position: relative;}#sk-container-id-6 div.sk-item {position: relative;z-index: 1;}#sk-container-id-6 div.sk-parallel {display: flex;align-items: stretch;justify-content: center;background-color: white;position: relative;}#sk-container-id-6 div.sk-item::before, #sk-container-id-6 div.sk-parallel-item::before {content: \"\";position: absolute;border-left: 1px solid gray;box-sizing: border-box;top: 0;bottom: 0;left: 50%;z-index: -1;}#sk-container-id-6 div.sk-parallel-item {display: flex;flex-direction: column;z-index: 1;position: relative;background-color: white;}#sk-container-id-6 div.sk-parallel-item:first-child::after {align-self: flex-end;width: 50%;}#sk-container-id-6 div.sk-parallel-item:last-child::after {align-self: flex-start;width: 50%;}#sk-container-id-6 div.sk-parallel-item:only-child::after {width: 0;}#sk-container-id-6 div.sk-dashed-wrapped {border: 1px dashed gray;margin: 0 0.4em 0.5em 0.4em;box-sizing: border-box;padding-bottom: 0.4em;background-color: white;}#sk-container-id-6 div.sk-label label {font-family: monospace;font-weight: bold;display: inline-block;line-height: 1.2em;}#sk-container-id-6 div.sk-label-container {text-align: center;}#sk-container-id-6 div.sk-container {/* jupyter's `normalize.less` sets `[hidden] { display: none; }` but bootstrap.min.css set `[hidden] { display: none !important; }` so we also need the `!important` here to be able to override the default hidden behavior on the sphinx rendered scikit-learn.org. See: https://github.com/scikit-learn/scikit-learn/issues/21755 */display: inline-block !important;position: relative;}#sk-container-id-6 div.sk-text-repr-fallback {display: none;}</style><div id=\"sk-container-id-6\" class=\"sk-top-container\"><div class=\"sk-text-repr-fallback\"><pre>RandomForestClassifier(max_depth=7, max_features=15, min_samples_leaf=3,\n",
       "                       min_samples_split=10, n_estimators=200, random_state=42)</pre><b>In a Jupyter environment, please rerun this cell to show the HTML representation or trust the notebook. <br />On GitHub, the HTML representation is unable to render, please try loading this page with nbviewer.org.</b></div><div class=\"sk-container\" hidden><div class=\"sk-item\"><div class=\"sk-estimator sk-toggleable\"><input class=\"sk-toggleable__control sk-hidden--visually\" id=\"sk-estimator-id-6\" type=\"checkbox\" checked><label for=\"sk-estimator-id-6\" class=\"sk-toggleable__label sk-toggleable__label-arrow\">RandomForestClassifier</label><div class=\"sk-toggleable__content\"><pre>RandomForestClassifier(max_depth=7, max_features=15, min_samples_leaf=3,\n",
       "                       min_samples_split=10, n_estimators=200, random_state=42)</pre></div></div></div></div></div>"
      ],
      "text/plain": [
       "RandomForestClassifier(max_depth=7, max_features=15, min_samples_leaf=3,\n",
       "                       min_samples_split=10, n_estimators=200, random_state=42)"
      ]
     },
     "execution_count": 30,
     "metadata": {},
     "output_type": "execute_result"
    }
   ],
   "source": [
    "rfc=RandomForestClassifier(bootstrap= True,max_depth= 7,max_features= 15,min_samples_leaf= 3,min_samples_split= 10,\n",
    "                           n_estimators= 200,\n",
    "                           random_state=42)\n",
    "rfc.fit(X_train, y_train)"
   ]
  },
  {
   "cell_type": "code",
   "execution_count": 31,
   "metadata": {},
   "outputs": [],
   "source": [
    "rfc_val_pred = rfc.predict(X_val)\n",
    "rfc_train_pred = rfc.predict(X_train)"
   ]
  },
  {
   "cell_type": "code",
   "execution_count": 32,
   "metadata": {},
   "outputs": [
    {
     "name": "stdout",
     "output_type": "stream",
     "text": [
      "Validation Accuracy: 0.9322916666666666\n",
      "Train Accuracy: 0.9544270833333334\n"
     ]
    }
   ],
   "source": [
    "accuracy_val_rfc = accuracy_score(y_val, rfc_val_pred)\n",
    "accuracy_train_rfc = accuracy_score(y_train, rfc_train_pred)\n",
    "\n",
    "print(f\"Validation Accuracy: {accuracy_val_rfc}\")\n",
    "print(f\"Train Accuracy: {accuracy_train_rfc}\")"
   ]
  },
  {
   "cell_type": "code",
   "execution_count": 33,
   "metadata": {},
   "outputs": [
    {
     "name": "stdout",
     "output_type": "stream",
     "text": [
      "              precision    recall  f1-score   support\n",
      "\n",
      "           2       0.77      0.86      0.81        28\n",
      "           3       0.96      0.96      0.96       149\n",
      "           4       1.00      0.80      0.89        15\n",
      "\n",
      "    accuracy                           0.93       192\n",
      "   macro avg       0.91      0.87      0.89       192\n",
      "weighted avg       0.94      0.93      0.93       192\n",
      "\n"
     ]
    }
   ],
   "source": [
    "print(classification_report(y_val, rfc_val_pred))"
   ]
  },
  {
   "cell_type": "markdown",
   "metadata": {},
   "source": [
    "### **Gradient Boosting Classifier**"
   ]
  },
  {
   "cell_type": "code",
   "execution_count": 34,
   "metadata": {},
   "outputs": [
    {
     "data": {
      "text/html": [
       "<style>#sk-container-id-7 {color: black;}#sk-container-id-7 pre{padding: 0;}#sk-container-id-7 div.sk-toggleable {background-color: white;}#sk-container-id-7 label.sk-toggleable__label {cursor: pointer;display: block;width: 100%;margin-bottom: 0;padding: 0.3em;box-sizing: border-box;text-align: center;}#sk-container-id-7 label.sk-toggleable__label-arrow:before {content: \"▸\";float: left;margin-right: 0.25em;color: #696969;}#sk-container-id-7 label.sk-toggleable__label-arrow:hover:before {color: black;}#sk-container-id-7 div.sk-estimator:hover label.sk-toggleable__label-arrow:before {color: black;}#sk-container-id-7 div.sk-toggleable__content {max-height: 0;max-width: 0;overflow: hidden;text-align: left;background-color: #f0f8ff;}#sk-container-id-7 div.sk-toggleable__content pre {margin: 0.2em;color: black;border-radius: 0.25em;background-color: #f0f8ff;}#sk-container-id-7 input.sk-toggleable__control:checked~div.sk-toggleable__content {max-height: 200px;max-width: 100%;overflow: auto;}#sk-container-id-7 input.sk-toggleable__control:checked~label.sk-toggleable__label-arrow:before {content: \"▾\";}#sk-container-id-7 div.sk-estimator input.sk-toggleable__control:checked~label.sk-toggleable__label {background-color: #d4ebff;}#sk-container-id-7 div.sk-label input.sk-toggleable__control:checked~label.sk-toggleable__label {background-color: #d4ebff;}#sk-container-id-7 input.sk-hidden--visually {border: 0;clip: rect(1px 1px 1px 1px);clip: rect(1px, 1px, 1px, 1px);height: 1px;margin: -1px;overflow: hidden;padding: 0;position: absolute;width: 1px;}#sk-container-id-7 div.sk-estimator {font-family: monospace;background-color: #f0f8ff;border: 1px dotted black;border-radius: 0.25em;box-sizing: border-box;margin-bottom: 0.5em;}#sk-container-id-7 div.sk-estimator:hover {background-color: #d4ebff;}#sk-container-id-7 div.sk-parallel-item::after {content: \"\";width: 100%;border-bottom: 1px solid gray;flex-grow: 1;}#sk-container-id-7 div.sk-label:hover label.sk-toggleable__label {background-color: #d4ebff;}#sk-container-id-7 div.sk-serial::before {content: \"\";position: absolute;border-left: 1px solid gray;box-sizing: border-box;top: 0;bottom: 0;left: 50%;z-index: 0;}#sk-container-id-7 div.sk-serial {display: flex;flex-direction: column;align-items: center;background-color: white;padding-right: 0.2em;padding-left: 0.2em;position: relative;}#sk-container-id-7 div.sk-item {position: relative;z-index: 1;}#sk-container-id-7 div.sk-parallel {display: flex;align-items: stretch;justify-content: center;background-color: white;position: relative;}#sk-container-id-7 div.sk-item::before, #sk-container-id-7 div.sk-parallel-item::before {content: \"\";position: absolute;border-left: 1px solid gray;box-sizing: border-box;top: 0;bottom: 0;left: 50%;z-index: -1;}#sk-container-id-7 div.sk-parallel-item {display: flex;flex-direction: column;z-index: 1;position: relative;background-color: white;}#sk-container-id-7 div.sk-parallel-item:first-child::after {align-self: flex-end;width: 50%;}#sk-container-id-7 div.sk-parallel-item:last-child::after {align-self: flex-start;width: 50%;}#sk-container-id-7 div.sk-parallel-item:only-child::after {width: 0;}#sk-container-id-7 div.sk-dashed-wrapped {border: 1px dashed gray;margin: 0 0.4em 0.5em 0.4em;box-sizing: border-box;padding-bottom: 0.4em;background-color: white;}#sk-container-id-7 div.sk-label label {font-family: monospace;font-weight: bold;display: inline-block;line-height: 1.2em;}#sk-container-id-7 div.sk-label-container {text-align: center;}#sk-container-id-7 div.sk-container {/* jupyter's `normalize.less` sets `[hidden] { display: none; }` but bootstrap.min.css set `[hidden] { display: none !important; }` so we also need the `!important` here to be able to override the default hidden behavior on the sphinx rendered scikit-learn.org. See: https://github.com/scikit-learn/scikit-learn/issues/21755 */display: inline-block !important;position: relative;}#sk-container-id-7 div.sk-text-repr-fallback {display: none;}</style><div id=\"sk-container-id-7\" class=\"sk-top-container\"><div class=\"sk-text-repr-fallback\"><pre>GradientBoostingClassifier(random_state=42)</pre><b>In a Jupyter environment, please rerun this cell to show the HTML representation or trust the notebook. <br />On GitHub, the HTML representation is unable to render, please try loading this page with nbviewer.org.</b></div><div class=\"sk-container\" hidden><div class=\"sk-item\"><div class=\"sk-estimator sk-toggleable\"><input class=\"sk-toggleable__control sk-hidden--visually\" id=\"sk-estimator-id-7\" type=\"checkbox\" checked><label for=\"sk-estimator-id-7\" class=\"sk-toggleable__label sk-toggleable__label-arrow\">GradientBoostingClassifier</label><div class=\"sk-toggleable__content\"><pre>GradientBoostingClassifier(random_state=42)</pre></div></div></div></div></div>"
      ],
      "text/plain": [
       "GradientBoostingClassifier(random_state=42)"
      ]
     },
     "execution_count": 34,
     "metadata": {},
     "output_type": "execute_result"
    }
   ],
   "source": [
    "gbc = GradientBoostingClassifier(n_estimators=100, learning_rate=0.1, max_depth=3, random_state=42)\n",
    "gbc.fit(X_train, y_train)"
   ]
  },
  {
   "cell_type": "code",
   "execution_count": 35,
   "metadata": {},
   "outputs": [],
   "source": [
    "gbc_val_pred = gbc.predict(X_val)\n",
    "gbc_train_pred = gbc.predict(X_train)"
   ]
  },
  {
   "cell_type": "code",
   "execution_count": 36,
   "metadata": {},
   "outputs": [
    {
     "name": "stdout",
     "output_type": "stream",
     "text": [
      "Validation Accuracy: 0.9270833333333334\n",
      "Train Accuracy: 0.9934895833333334\n"
     ]
    }
   ],
   "source": [
    "accuracy_val_gbc = accuracy_score(y_val, gbc_val_pred)\n",
    "accuracy_train_gbc = accuracy_score(y_train, gbc_train_pred)\n",
    "\n",
    "print(f\"Validation Accuracy: {accuracy_val_gbc}\")\n",
    "print(f\"Train Accuracy: {accuracy_train_gbc}\")"
   ]
  },
  {
   "cell_type": "markdown",
   "metadata": {},
   "source": [
    "## **Use Hyperparameter Tuning**"
   ]
  },
  {
   "cell_type": "markdown",
   "metadata": {},
   "source": [
    "- Hyperparameter Tunning is the process of finding the best set of hyperparameters for a machine learning model to achieve optimal performance on a given dataset.\n",
    "- In hyperparameter tunning the model perform and calculate accuracy with all possible parameter given to it internally and give the best parameters which give the best performance.\n",
    "- **Grid Search and Random Search are two commonly used methods for Hyperparameter tunning**"
   ]
  },
  {
   "cell_type": "markdown",
   "metadata": {},
   "source": [
    "### **Logistic Regression**\n",
    "\n",
    "#### GridSearchCV"
   ]
  },
  {
   "cell_type": "code",
   "execution_count": 37,
   "metadata": {},
   "outputs": [
    {
     "name": "stdout",
     "output_type": "stream",
     "text": [
      "{'C': 10, 'multi_class': 'multinomial', 'penalty': 'l1', 'solver': 'saga'}\n"
     ]
    }
   ],
   "source": [
    "param_grid = {\n",
    "    'solver': ['newton-cg', 'lbfgs', 'liblinear', 'sag', 'saga'],\n",
    "    'penalty': ['l1', 'l2', 'elasticent'],\n",
    "    'C': [0.001, 0.01, 0.1, 1, 10],\n",
    "    'multi_class':['ovr','multinomial']\n",
    "}\n",
    "\n",
    "logistic = LogisticRegression(random_state=42)\n",
    "grid_search = GridSearchCV(logistic, param_grid, cv = 5)\n",
    "grid_search.fit(X_train, y_train)\n",
    "best_params = grid_search.best_params_\n",
    "print(best_params)"
   ]
  },
  {
   "cell_type": "code",
   "execution_count": 38,
   "metadata": {},
   "outputs": [
    {
     "name": "stdout",
     "output_type": "stream",
     "text": [
      "Validation Accuracy: 0.8385416666666666\n",
      "Train Accuracy: 0.8372395833333334\n"
     ]
    }
   ],
   "source": [
    "logistic_gscv = LogisticRegression(**best_params, random_state=42)\n",
    "logistic_gscv.fit(X_train, y_train)\n",
    "\n",
    "logistic_gscv_val_pred = logistic_gscv.predict(X_val)\n",
    "logistic_gscv_train_pred = logistic_gscv.predict(X_train)\n",
    "\n",
    "accuracy_val_logistic_gscv = accuracy_score(y_val, logistic_gscv_val_pred)\n",
    "accuracy_train_logistic_gscv = accuracy_score(y_train, logistic_gscv_train_pred)\n",
    "\n",
    "print(f\"Validation Accuracy: {accuracy_val_logistic_gscv}\")\n",
    "print(f\"Train Accuracy: {accuracy_train_logistic_gscv}\")"
   ]
  },
  {
   "cell_type": "markdown",
   "metadata": {},
   "source": [
    "#### RandomizedSearchCV"
   ]
  },
  {
   "cell_type": "code",
   "execution_count": 39,
   "metadata": {},
   "outputs": [
    {
     "name": "stdout",
     "output_type": "stream",
     "text": [
      "{'C': 8.384346333322712, 'multi_class': 'multinomial', 'penalty': 'l2', 'solver': 'saga'}\n"
     ]
    }
   ],
   "source": [
    "param_dist = {\n",
    "    'solver': ['newton-cg', 'lbfgs', 'liblinear', 'sag', 'saga'],\n",
    "    'penalty': ['l1', 'l2', 'elasticent'],\n",
    "    'multi_class':['ovr','multinomial'],\n",
    "    'C': uniform(loc=0, scale=10)\n",
    "}\n",
    "\n",
    "logistic = LogisticRegression(random_state=42)\n",
    "random_search = RandomizedSearchCV(logistic, param_distributions=param_dist, cv = 5)\n",
    "random_search.fit(X_train, y_train)\n",
    "best_params = random_search.best_params_\n",
    "print(best_params)"
   ]
  },
  {
   "cell_type": "code",
   "execution_count": 40,
   "metadata": {},
   "outputs": [
    {
     "name": "stdout",
     "output_type": "stream",
     "text": [
      "Validation Accuracy: 0.8333333333333334\n",
      "Train Accuracy: 0.8385416666666666\n"
     ]
    }
   ],
   "source": [
    "logistic_rscv = LogisticRegression(**best_params, random_state=42)\n",
    "logistic_rscv.fit(X_train, y_train)\n",
    "\n",
    "logistic_rscv_val_pred = logistic_rscv.predict(X_val)\n",
    "logistic_rscv_train_pred = logistic_rscv.predict(X_train)\n",
    "\n",
    "accuracy_val_logistic_rscv = accuracy_score(y_val, logistic_rscv_val_pred)\n",
    "accuracy_train_logistic_rscv = accuracy_score(y_train, logistic_rscv_train_pred)\n",
    "\n",
    "print(f\"Validation Accuracy: {accuracy_val_logistic_rscv}\")\n",
    "print(f\"Train Accuracy: {accuracy_train_logistic_rscv}\")"
   ]
  },
  {
   "cell_type": "code",
   "execution_count": 72,
   "metadata": {},
   "outputs": [
    {
     "name": "stdout",
     "output_type": "stream",
     "text": [
      "Max accuracy: 0.8385416666666666 (from LogisticRegression(C=10, multi_class='multinomial', penalty='l1',\n",
      "                   random_state=42, solver='saga'))\n",
      "Stored 'best_accuracy_logistic_model' (LogisticRegression)\n",
      "Stored 'max_accuracy_logistic' (float64)\n"
     ]
    }
   ],
   "source": [
    "# Dictionary to hold accuracy values and corresponding models\n",
    "accuracy_models_logistic = {\n",
    "    accuracy_val_logistic_gscv: logistic_gscv,\n",
    "    accuracy_val_logistic_rscv: logistic_rscv\n",
    "}\n",
    "\n",
    "# Get the maximum accuracy and the corresponding model variable name\n",
    "max_accuracy_logistic = max(accuracy_models_logistic)\n",
    "best_accuracy_logistic_model = accuracy_models_logistic[max_accuracy_logistic]\n",
    "\n",
    "# Print the maximum accuracy and the corresponding model variable name\n",
    "print(f\"Max accuracy: {max_accuracy_logistic} (from {best_accuracy_logistic_model})\")\n",
    "\n",
    "# Store the variable name of the best model\n",
    "%store best_accuracy_logistic_model\n",
    "%store max_accuracy_logistic"
   ]
  },
  {
   "cell_type": "markdown",
   "metadata": {},
   "source": [
    "### **Naive Bayes**\n",
    "#### GridSearchCV"
   ]
  },
  {
   "cell_type": "code",
   "execution_count": 42,
   "metadata": {},
   "outputs": [
    {
     "name": "stdout",
     "output_type": "stream",
     "text": [
      "{'alpha': 0.1, 'fit_prior': True}\n"
     ]
    }
   ],
   "source": [
    "param_grid = {\n",
    "    'alpha': [0.1, 1, 10],\n",
    "    'fit_prior': [True, False]\n",
    "}\n",
    "\n",
    "nb = MultinomialNB()\n",
    "grid_search = GridSearchCV(nb, param_grid, cv = 5)\n",
    "grid_search.fit(X_train, y_train)\n",
    "best_params = grid_search.best_params_\n",
    "print(best_params)"
   ]
  },
  {
   "cell_type": "code",
   "execution_count": 43,
   "metadata": {},
   "outputs": [
    {
     "name": "stdout",
     "output_type": "stream",
     "text": [
      "Validation Accuracy: 0.7760416666666666\n",
      "Train Accuracy: 0.7122395833333334\n"
     ]
    }
   ],
   "source": [
    "nb_gscv = MultinomialNB(**best_params)\n",
    "nb_gscv.fit(X_train, y_train)\n",
    "\n",
    "nb_gscv_val_pred = nb_gscv.predict(X_val)\n",
    "nb_gscv_train_pred = nb_gscv.predict(X_train)\n",
    "\n",
    "accuracy_val_nb_gscv = accuracy_score(y_val, nb_gscv_val_pred)\n",
    "accuracy_train_nb_gscv = accuracy_score(y_train, nb_gscv_train_pred)\n",
    "\n",
    "print(f\"Validation Accuracy: {accuracy_val_nb_gscv}\")\n",
    "print(f\"Train Accuracy: {accuracy_train_nb_gscv}\")"
   ]
  },
  {
   "cell_type": "markdown",
   "metadata": {},
   "source": [
    "#### RandomizedSearchCV"
   ]
  },
  {
   "cell_type": "code",
   "execution_count": 44,
   "metadata": {},
   "outputs": [
    {
     "name": "stdout",
     "output_type": "stream",
     "text": [
      "{'alpha': 3.9334325246690116}\n"
     ]
    }
   ],
   "source": [
    "param_dist = {\n",
    "    'alpha': uniform(loc=0, scale=10)\n",
    "}\n",
    "\n",
    "nb = MultinomialNB()\n",
    "random_search = RandomizedSearchCV(nb, param_distributions= param_dist, cv = 5)\n",
    "random_search.fit(X_train, y_train)\n",
    "best_params = random_search.best_params_\n",
    "print(best_params)"
   ]
  },
  {
   "cell_type": "code",
   "execution_count": 45,
   "metadata": {},
   "outputs": [
    {
     "name": "stdout",
     "output_type": "stream",
     "text": [
      "Validation Accuracy: 0.7760416666666666\n",
      "Train Accuracy: 0.7122395833333334\n"
     ]
    }
   ],
   "source": [
    "nb_rscv = MultinomialNB(**best_params)\n",
    "nb_rscv.fit(X_train, y_train)\n",
    "\n",
    "nb_rscv_val_pred = nb_rscv.predict(X_val)\n",
    "nb_rscv_train_pred = nb_rscv.predict(X_train)\n",
    "\n",
    "accuracy_val_nb_rscv = accuracy_score(y_val, nb_rscv_val_pred)\n",
    "accuracy_train_nb_rscv = accuracy_score(y_train, nb_rscv_train_pred)\n",
    "\n",
    "print(f\"Validation Accuracy: {accuracy_val_nb_rscv}\")\n",
    "print(f\"Train Accuracy: {accuracy_train_nb_rscv}\")"
   ]
  },
  {
   "cell_type": "code",
   "execution_count": 73,
   "metadata": {},
   "outputs": [
    {
     "name": "stdout",
     "output_type": "stream",
     "text": [
      "Max accuracy: 0.7760416666666666 (from MultinomialNB(alpha=3.9334325246690116))\n",
      "Stored 'best_accuracy_nb_model' (MultinomialNB)\n",
      "Stored 'max_accuracy_nb' (float64)\n"
     ]
    }
   ],
   "source": [
    "# Dictionary to hold accuracy values and corresponding models\n",
    "accuracy_models_nb = {\n",
    "    accuracy_val_nb_gscv: nb_gscv,\n",
    "    accuracy_val_nb_rscv: nb_rscv\n",
    "}\n",
    "\n",
    "# Get the maximum accuracy and the corresponding model variable name\n",
    "max_accuracy_nb = max(accuracy_models_nb)\n",
    "best_accuracy_nb_model = accuracy_models_nb[max_accuracy_nb]\n",
    "\n",
    "# Print the maximum accuracy and the corresponding model variable name\n",
    "print(f\"Max accuracy: {max_accuracy_nb} (from {best_accuracy_nb_model})\")\n",
    "\n",
    "# Store the variable name of the best model\n",
    "%store best_accuracy_nb_model\n",
    "%store max_accuracy_nb"
   ]
  },
  {
   "cell_type": "markdown",
   "metadata": {},
   "source": [
    "### **Decision Tree Classifier**\n",
    "\n",
    "#### GridSearchCV"
   ]
  },
  {
   "cell_type": "code",
   "execution_count": 47,
   "metadata": {},
   "outputs": [
    {
     "name": "stdout",
     "output_type": "stream",
     "text": [
      "{'criterion': 'gini', 'max_depth': 10, 'max_features': 'sqrt', 'min_samples_leaf': 1, 'min_samples_split': 10, 'splitter': 'best'}\n"
     ]
    }
   ],
   "source": [
    "param_grid = {\n",
    "    'criterion': ['gini', 'entropy'],\n",
    "    'max_depth': [None, 10, 20, 30],\n",
    "    'min_samples_split': [2, 5, 10],\n",
    "    'min_samples_leaf': [1, 2, 4],\n",
    "    'max_features': ['auto', 'sqrt', 'log2'],\n",
    "    'splitter': ['best', 'random']\n",
    "}\n",
    "\n",
    "dt = DecisionTreeClassifier(random_state=42)\n",
    "grid_search = GridSearchCV(dt, param_grid, cv=5)\n",
    "grid_search.fit(X_train, y_train)\n",
    "best_params = grid_search.best_params_\n",
    "print(best_params)"
   ]
  },
  {
   "cell_type": "code",
   "execution_count": 48,
   "metadata": {},
   "outputs": [
    {
     "name": "stdout",
     "output_type": "stream",
     "text": [
      "Validation Accuracy: 0.8489583333333334\n",
      "Train Accuracy: 0.921875\n"
     ]
    }
   ],
   "source": [
    "dt_gscv = DecisionTreeClassifier(**best_params, random_state=42)\n",
    "dt_gscv.fit(X_train, y_train)\n",
    "\n",
    "dt_gscv_val_pred = dt_gscv.predict(X_val)\n",
    "dt_gscv_train_pred = dt_gscv.predict(X_train)\n",
    "\n",
    "accuracy_val_dt_gscv = accuracy_score(y_val, dt_gscv_val_pred)\n",
    "accuracy_train_dt_gscv = accuracy_score(y_train, dt_gscv_train_pred)\n",
    "\n",
    "print(f\"Validation Accuracy: {accuracy_val_dt_gscv}\")\n",
    "print(f\"Train Accuracy: {accuracy_train_dt_gscv}\")"
   ]
  },
  {
   "cell_type": "markdown",
   "metadata": {},
   "source": [
    "#### Randomized Search CV"
   ]
  },
  {
   "cell_type": "code",
   "execution_count": 49,
   "metadata": {},
   "outputs": [
    {
     "name": "stdout",
     "output_type": "stream",
     "text": [
      "{'max_depth': 14, 'max_features': 'log2', 'min_samples_leaf': 1, 'min_samples_split': 13}\n"
     ]
    }
   ],
   "source": [
    "param_dist = {\n",
    "    'max_depth': randint(1, 20),\n",
    "    'min_samples_split': randint(2, 20),\n",
    "    'min_samples_leaf': randint(1, 10),\n",
    "    'max_features': ['auto', 'sqrt', 'log2']\n",
    "}\n",
    "\n",
    "dt = DecisionTreeClassifier(random_state=42)\n",
    "random_search = RandomizedSearchCV(dt, param_distributions=param_dist, cv=5)\n",
    "random_search.fit(X_train, y_train)\n",
    "best_params = random_search.best_params_\n",
    "print(best_params)"
   ]
  },
  {
   "cell_type": "code",
   "execution_count": 50,
   "metadata": {},
   "outputs": [
    {
     "name": "stdout",
     "output_type": "stream",
     "text": [
      "Validation Accuracy: 0.828125\n",
      "Train Accuracy: 0.9127604166666666\n"
     ]
    }
   ],
   "source": [
    "dt_rscv = DecisionTreeClassifier(**best_params, random_state=42)\n",
    "dt_rscv.fit(X_train, y_train)\n",
    "\n",
    "dt_rscv_val_pred = dt_rscv.predict(X_val)\n",
    "dt_rscv_train_pred = dt_rscv.predict(X_train)\n",
    "\n",
    "accuracy_val_dt_rscv = accuracy_score(y_val, dt_rscv_val_pred)\n",
    "accuracy_train_dt_rscv = accuracy_score(y_train, dt_rscv_train_pred)\n",
    "\n",
    "print(f\"Validation Accuracy: {accuracy_val_dt_rscv}\")\n",
    "print(f\"Train Accuracy: {accuracy_train_dt_rscv}\")"
   ]
  },
  {
   "cell_type": "code",
   "execution_count": 74,
   "metadata": {},
   "outputs": [
    {
     "name": "stdout",
     "output_type": "stream",
     "text": [
      "Max accuracy: 0.8489583333333334 (from DecisionTreeClassifier(max_depth=10, max_features='sqrt', min_samples_split=10,\n",
      "                       random_state=42))\n",
      "Stored 'best_accuracy_dt_model' (DecisionTreeClassifier)\n",
      "Stored 'max_accuracy_dt' (float64)\n"
     ]
    }
   ],
   "source": [
    "# Dictionary to hold accuracy values and corresponding models\n",
    "accuracy_models_dt = {\n",
    "    accuracy_val_dt_gscv: dt_gscv,\n",
    "    accuracy_val_dt_rscv: dt_rscv\n",
    "}\n",
    "\n",
    "# Get the maximum accuracy and the corresponding model variable name\n",
    "max_accuracy_dt = max(accuracy_models_dt)\n",
    "best_accuracy_dt_model = accuracy_models_dt[max_accuracy_dt]\n",
    "\n",
    "# Print the maximum accuracy and the corresponding model variable name\n",
    "print(f\"Max accuracy: {max_accuracy_dt} (from {best_accuracy_dt_model})\")\n",
    "\n",
    "# Store the variable name of the best model\n",
    "%store best_accuracy_dt_model\n",
    "%store max_accuracy_dt"
   ]
  },
  {
   "cell_type": "markdown",
   "metadata": {},
   "source": [
    "### **KNN**\n",
    "#### Grid Search CV"
   ]
  },
  {
   "cell_type": "code",
   "execution_count": 52,
   "metadata": {},
   "outputs": [
    {
     "name": "stdout",
     "output_type": "stream",
     "text": [
      "{'metric': 'euclidean', 'n_neighbors': 7, 'p': 1, 'weights': 'distance'}\n"
     ]
    }
   ],
   "source": [
    "param_grid = {\n",
    "    'n_neighbors': [3, 5, 7],\n",
    "    'weights': ['uniform', 'distance'],\n",
    "    'metric': ['euclidean', 'manhattan', 'minkowski'], \n",
    "    'p': [1, 2]\n",
    "}\n",
    "\n",
    "knn = KNeighborsClassifier()\n",
    "grid_search = GridSearchCV(knn, param_grid, cv=5)\n",
    "grid_search.fit(X_train, y_train)\n",
    "best_params = grid_search.best_params_\n",
    "print(best_params)"
   ]
  },
  {
   "cell_type": "code",
   "execution_count": 53,
   "metadata": {},
   "outputs": [
    {
     "name": "stdout",
     "output_type": "stream",
     "text": [
      "Validation Accuracy: 0.8072916666666666\n",
      "Train Accuracy: 1.0\n"
     ]
    }
   ],
   "source": [
    "knn_gscv = KNeighborsClassifier(**best_params)\n",
    "knn_gscv.fit(X_train, y_train)\n",
    "\n",
    "knn_gscv_val_pred = knn_gscv.predict(X_val)\n",
    "knn_gscv_train_pred = knn_gscv.predict(X_train)\n",
    "\n",
    "accuracy_val_knn_gscv = accuracy_score(y_val, knn_gscv_val_pred)\n",
    "accuracy_train_knn_gscv = accuracy_score(y_train, knn_gscv_train_pred)\n",
    "\n",
    "print(f\"Validation Accuracy: {accuracy_val_knn_gscv}\")\n",
    "print(f\"Train Accuracy: {accuracy_train_knn_gscv}\")"
   ]
  },
  {
   "cell_type": "markdown",
   "metadata": {},
   "source": [
    "#### Randomized Search CV"
   ]
  },
  {
   "cell_type": "code",
   "execution_count": 54,
   "metadata": {},
   "outputs": [
    {
     "name": "stdout",
     "output_type": "stream",
     "text": [
      "{'metric': 'minkowski', 'n_neighbors': 17, 'p': 1, 'weights': 'distance'}\n"
     ]
    }
   ],
   "source": [
    "param_dist = {\n",
    "    'n_neighbors': randint(1, 20),\n",
    "    'weights': ['uniform', 'distance'],\n",
    "    'metric': ['euclidean', 'manhattan', 'minkowski'],\n",
    "    'p': [1, 2]\n",
    "}\n",
    "\n",
    "knn = KNeighborsClassifier()\n",
    "random_search = RandomizedSearchCV(knn, param_distributions = param_dist, cv=5)\n",
    "random_search.fit(X_train, y_train)\n",
    "best_params = random_search.best_params_\n",
    "print(best_params)"
   ]
  },
  {
   "cell_type": "code",
   "execution_count": 55,
   "metadata": {},
   "outputs": [
    {
     "name": "stdout",
     "output_type": "stream",
     "text": [
      "Validation Accuracy: 0.8333333333333334\n",
      "Train Accuracy: 1.0\n"
     ]
    }
   ],
   "source": [
    "knn_rscv = KNeighborsClassifier(**best_params)\n",
    "knn_rscv.fit(X_train, y_train)\n",
    "\n",
    "knn_rscv_val_pred = knn_rscv.predict(X_val)\n",
    "knn_rscv_train_pred = knn_rscv.predict(X_train)\n",
    "\n",
    "accuracy_val_knn_rscv = accuracy_score(y_val, knn_rscv_val_pred)\n",
    "accuracy_train_knn_rscv = accuracy_score(y_train, knn_rscv_train_pred)\n",
    "\n",
    "print(f\"Validation Accuracy: {accuracy_val_knn_rscv}\")\n",
    "print(f\"Train Accuracy: {accuracy_train_knn_rscv}\")"
   ]
  },
  {
   "cell_type": "code",
   "execution_count": 75,
   "metadata": {},
   "outputs": [
    {
     "name": "stdout",
     "output_type": "stream",
     "text": [
      "Max accuracy: 0.8333333333333334 (from KNeighborsClassifier(n_neighbors=17, p=1, weights='distance'))\n",
      "Stored 'best_accuracy_knn_model' (KNeighborsClassifier)\n",
      "Stored 'max_accuracy_knn' (float64)\n"
     ]
    }
   ],
   "source": [
    "# Dictionary to hold accuracy values and corresponding models\n",
    "accuracy_models_knn = {\n",
    "    accuracy_val_knn_gscv: knn_gscv,\n",
    "    accuracy_val_knn_rscv: knn_rscv\n",
    "}\n",
    "\n",
    "# Get the maximum accuracy and the corresponding model variable name\n",
    "max_accuracy_knn = max(accuracy_models_knn)\n",
    "best_accuracy_knn_model = accuracy_models_knn[max_accuracy_knn]\n",
    "\n",
    "# Print the maximum accuracy and the corresponding model variable name\n",
    "print(f\"Max accuracy: {max_accuracy_knn} (from {best_accuracy_knn_model})\")\n",
    "\n",
    "# Store the variable name of the best model\n",
    "%store best_accuracy_knn_model\n",
    "%store max_accuracy_knn"
   ]
  },
  {
   "cell_type": "markdown",
   "metadata": {},
   "source": [
    "### **Random Forest Classifier**\n",
    "#### Grid Search CV"
   ]
  },
  {
   "cell_type": "code",
   "execution_count": 57,
   "metadata": {},
   "outputs": [
    {
     "name": "stdout",
     "output_type": "stream",
     "text": [
      "{'max_depth': 15, 'min_samples_leaf': 1, 'min_samples_split': 5, 'n_estimators': 100}\n"
     ]
    }
   ],
   "source": [
    "param_grid = {'n_estimators': [50, 100, 150],\n",
    "              'max_depth': [None, 5,10,15, 20],\n",
    "              'min_samples_split': [2, 5, 10],\n",
    "              'min_samples_leaf': [1, 2, 4] }\n",
    "rfc = RandomForestClassifier(random_state=42)\n",
    "grid_search = GridSearchCV(rfc, param_grid, cv=5)\n",
    "grid_search.fit(X_train, y_train)\n",
    "best_params = grid_search.best_params_\n",
    "print(best_params)"
   ]
  },
  {
   "cell_type": "code",
   "execution_count": 58,
   "metadata": {},
   "outputs": [
    {
     "name": "stdout",
     "output_type": "stream",
     "text": [
      "Validation Accuracy: 0.9427083333333334\n",
      "Train Accuracy: 0.9765625\n"
     ]
    }
   ],
   "source": [
    "rfc_gscv = RandomForestClassifier(**best_params, random_state=42)\n",
    "rfc_gscv.fit(X_train, y_train)\n",
    "\n",
    "rfc_gscv_val_pred = rfc_gscv.predict(X_val)\n",
    "rfc_gscv_train_pred = rfc_gscv.predict(X_train)\n",
    "\n",
    "accuracy_val_rfc_gscv = accuracy_score(y_val, rfc_gscv_val_pred)\n",
    "accuracy_train_rfc_gscv = accuracy_score(y_train, rfc_gscv_train_pred)\n",
    "\n",
    "print(f\"Validation Accuracy: {accuracy_val_rfc_gscv}\")\n",
    "print(f\"Train Accuracy: {accuracy_train_rfc_gscv}\")"
   ]
  },
  {
   "cell_type": "markdown",
   "metadata": {},
   "source": [
    "#### Randomized Search CV"
   ]
  },
  {
   "cell_type": "code",
   "execution_count": 59,
   "metadata": {},
   "outputs": [
    {
     "name": "stdout",
     "output_type": "stream",
     "text": [
      "{'n_estimators': 100, 'min_samples_split': 2, 'min_samples_leaf': 2, 'max_features': 'log2', 'max_depth': 20, 'criterion': 'gini'}\n"
     ]
    }
   ],
   "source": [
    "param_grid = {\n",
    "    'n_estimators': [10, 50, 100, 200],\n",
    "    'criterion': ['gini', 'entropy'],\n",
    "    'max_depth': [None, 10, 20, 30],\n",
    "    'min_samples_split': [2, 5, 10],\n",
    "    'min_samples_leaf': [1, 2, 4],\n",
    "    'max_features': ['auto', 'sqrt', 'log2']\n",
    "}\n",
    "\n",
    "rfc = RandomForestClassifier(random_state=42)\n",
    "random_search = RandomizedSearchCV(rfc, param_grid, cv=5)\n",
    "random_search.fit(X_train, y_train)\n",
    "best_params = random_search.best_params_\n",
    "print(best_params)"
   ]
  },
  {
   "cell_type": "code",
   "execution_count": 60,
   "metadata": {},
   "outputs": [
    {
     "name": "stdout",
     "output_type": "stream",
     "text": [
      "Validation Accuracy: 0.9322916666666666\n",
      "Train Accuracy: 0.9661458333333334\n"
     ]
    }
   ],
   "source": [
    "rfc_rscv = RandomForestClassifier(**best_params, random_state=42)\n",
    "rfc_rscv.fit(X_train, y_train)\n",
    "\n",
    "rfc_rscv_val_pred = rfc_rscv.predict(X_val)\n",
    "rfc_rscv_train_pred = rfc_rscv.predict(X_train)\n",
    "\n",
    "accuracy_val_rfc_rscv = accuracy_score(y_val, rfc_rscv_val_pred)\n",
    "accuracy_train_rfc_rscv = accuracy_score(y_train, rfc_rscv_train_pred)\n",
    "\n",
    "print(f\"Validation Accuracy: {accuracy_val_rfc_rscv}\")\n",
    "print(f\"Train Accuracy: {accuracy_train_rfc_rscv}\")"
   ]
  },
  {
   "cell_type": "code",
   "execution_count": 76,
   "metadata": {},
   "outputs": [
    {
     "name": "stdout",
     "output_type": "stream",
     "text": [
      "Max accuracy: 0.9427083333333334 (from RandomForestClassifier(max_depth=15, min_samples_split=5, random_state=42))\n",
      "Stored 'best_accuracy_rfc_model' (RandomForestClassifier)\n",
      "Stored 'max_accuracy_rfc' (float64)\n"
     ]
    }
   ],
   "source": [
    "# Dictionary to hold accuracy values and corresponding models\n",
    "accuracy_models_rfc = {\n",
    "    accuracy_val_rfc_gscv: rfc_gscv,\n",
    "    accuracy_val_rfc_rscv: rfc_rscv\n",
    "}\n",
    "\n",
    "# Get the maximum accuracy and the corresponding model variable name\n",
    "max_accuracy_rfc = max(accuracy_models_rfc)\n",
    "best_accuracy_rfc_model = accuracy_models_rfc[max_accuracy_rfc]\n",
    "\n",
    "# Print the maximum accuracy and the corresponding model variable name\n",
    "print(f\"Max accuracy: {max_accuracy_rfc} (from {best_accuracy_rfc_model})\")\n",
    "\n",
    "# Store the variable name of the best model\n",
    "%store best_accuracy_rfc_model\n",
    "%store max_accuracy_rfc"
   ]
  },
  {
   "cell_type": "markdown",
   "metadata": {},
   "source": [
    "### **SVM Classifier**\n",
    "\n",
    "#### Grid Search CV\n"
   ]
  },
  {
   "cell_type": "code",
   "execution_count": 62,
   "metadata": {},
   "outputs": [
    {
     "name": "stdout",
     "output_type": "stream",
     "text": [
      "{'C': 10, 'gamma': 1}\n"
     ]
    }
   ],
   "source": [
    "param_grid = {'C':[0.1,0.5,10,50,60,70,80],\n",
    "             'gamma':[1,0.1,0.001,0.0001,0.00001]}\n",
    "\n",
    "svm_clf = svm.SVC(random_state=42)\n",
    "grid_search = GridSearchCV(svm_clf, param_grid, cv=5)\n",
    "grid_search.fit(X_train, y_train)\n",
    "best_params = grid_search.best_params_\n",
    "print(best_params)\n"
   ]
  },
  {
   "cell_type": "code",
   "execution_count": 63,
   "metadata": {},
   "outputs": [
    {
     "name": "stdout",
     "output_type": "stream",
     "text": [
      "Validation Accuracy: 0.8489583333333334\n",
      "Train Accuracy: 0.9830729166666666\n"
     ]
    }
   ],
   "source": [
    "svm_gscv = svm.SVC(**best_params, random_state=42)\n",
    "svm_gscv.fit(X_train, y_train)\n",
    "\n",
    "svm_gscv_val_pred = svm_gscv.predict(X_val)\n",
    "svm_gscv_train_pred = svm_gscv.predict(X_train)\n",
    "\n",
    "accuracy_val_svm_gscv = accuracy_score(y_val, svm_gscv_val_pred)\n",
    "accuracy_train_svm_gscv = accuracy_score(y_train, svm_gscv_train_pred)\n",
    "\n",
    "print(f\"Validation Accuracy: {accuracy_val_svm_gscv}\")\n",
    "print(f\"Train Accuracy: {accuracy_train_svm_gscv}\")"
   ]
  },
  {
   "cell_type": "markdown",
   "metadata": {},
   "source": [
    "#### Randomized Search CV"
   ]
  },
  {
   "cell_type": "code",
   "execution_count": 64,
   "metadata": {},
   "outputs": [
    {
     "name": "stdout",
     "output_type": "stream",
     "text": [
      "{'gamma': 1, 'C': 10}\n"
     ]
    }
   ],
   "source": [
    "param_grid = {'C':[0.1,0.5,10,50,60,70,80],\n",
    "             'gamma':[1,0.1,0.001,0.0001,0.00001]}\n",
    "\n",
    "svm_clf = svm.SVC(random_state=42)\n",
    "random_search = RandomizedSearchCV(svm_clf, param_grid, cv=5)\n",
    "random_search.fit(X_train, y_train)\n",
    "best_params = random_search.best_params_\n",
    "print(best_params)"
   ]
  },
  {
   "cell_type": "code",
   "execution_count": 65,
   "metadata": {},
   "outputs": [
    {
     "name": "stdout",
     "output_type": "stream",
     "text": [
      "Validation Accuracy: 0.8489583333333334\n",
      "Train Accuracy: 0.9830729166666666\n"
     ]
    }
   ],
   "source": [
    "svm_rscv = svm.SVC(**best_params, random_state=42)\n",
    "svm_rscv.fit(X_train, y_train)\n",
    "\n",
    "svm_rscv_val_pred = svm_rscv.predict(X_val)\n",
    "svm_rscv_train_pred = svm_rscv.predict(X_train)\n",
    "\n",
    "accuracy_val_svm_rscv = accuracy_score(y_val, svm_rscv_val_pred)\n",
    "accuracy_train_svm_rscv = accuracy_score(y_train, svm_rscv_train_pred)\n",
    "\n",
    "print(f\"Validation Accuracy: {accuracy_val_svm_rscv}\")\n",
    "print(f\"Train Accuracy: {accuracy_train_svm_rscv}\")"
   ]
  },
  {
   "cell_type": "code",
   "execution_count": 77,
   "metadata": {},
   "outputs": [
    {
     "name": "stdout",
     "output_type": "stream",
     "text": [
      "Max accuracy: 0.8489583333333334 (from SVC(C=10, gamma=1, random_state=42))\n",
      "Stored 'best_accuracy_svm_model' (SVC)\n",
      "Stored 'max_accuracy_svm' (float64)\n"
     ]
    }
   ],
   "source": [
    "# Dictionary to hold accuracy values and corresponding models\n",
    "accuracy_models_svm = {\n",
    "    accuracy_val_svm_gscv: svm_gscv,\n",
    "    accuracy_val_svm_rscv: svm_rscv\n",
    "}\n",
    "\n",
    "# Get the maximum accuracy and the corresponding model variable name\n",
    "max_accuracy_svm = max(accuracy_models_svm)\n",
    "best_accuracy_svm_model = accuracy_models_svm[max_accuracy_svm]\n",
    "\n",
    "# Print the maximum accuracy and the corresponding model variable name\n",
    "print(f\"Max accuracy: {max_accuracy_svm} (from {best_accuracy_svm_model})\")\n",
    "\n",
    "# Store the variable name of the best model\n",
    "%store best_accuracy_svm_model\n",
    "%store max_accuracy_svm"
   ]
  },
  {
   "cell_type": "markdown",
   "metadata": {},
   "source": [
    "### **Gradient Boosting Classifier**\n",
    "\n",
    "#### Grid Search CV"
   ]
  },
  {
   "cell_type": "code",
   "execution_count": 67,
   "metadata": {},
   "outputs": [
    {
     "name": "stdout",
     "output_type": "stream",
     "text": [
      "{'learning_rate': 0.1, 'max_depth': 3, 'min_samples_leaf': 4, 'min_samples_split': 10, 'n_estimators': 50, 'subsample': 0.9}\n"
     ]
    }
   ],
   "source": [
    "param_grid = {\n",
    "    'n_estimators': [50, 100, 150],\n",
    "    'learning_rate': [0.01, 0.1, 0.2],\n",
    "    'max_depth': [3, 4, 5],\n",
    "    'min_samples_split': [2, 5, 10],\n",
    "    'min_samples_leaf': [1, 2, 4],\n",
    "    'subsample': [0.8, 0.9, 1.0]\n",
    "}\n",
    "\n",
    "gbc = GradientBoostingClassifier(random_state = 42)\n",
    "grid_search = GridSearchCV(gbc, param_grid, cv=5)\n",
    "grid_search.fit(X_train, y_train)\n",
    "best_params = grid_search.best_params_\n",
    "print(best_params)"
   ]
  },
  {
   "cell_type": "code",
   "execution_count": 68,
   "metadata": {},
   "outputs": [
    {
     "name": "stdout",
     "output_type": "stream",
     "text": [
      "Validation Accuracy: 0.921875\n",
      "Train Accuracy: 0.96875\n"
     ]
    }
   ],
   "source": [
    "gbc_gscv = GradientBoostingClassifier(**best_params, random_state=42)\n",
    "gbc_gscv.fit(X_train, y_train)\n",
    "\n",
    "gbc_gscv_val_pred = gbc_gscv.predict(X_val)\n",
    "gbc_gscv_train_pred = gbc_gscv.predict(X_train)\n",
    "\n",
    "accuracy_val_gbc_gscv = accuracy_score(y_val, gbc_gscv_val_pred)\n",
    "accuracy_train_gbc_gscv = accuracy_score(y_train, gbc_gscv_train_pred)\n",
    "\n",
    "print(f\"Validation Accuracy: {accuracy_val_gbc_gscv}\")\n",
    "print(f\"Train Accuracy: {accuracy_train_gbc_gscv}\")"
   ]
  },
  {
   "cell_type": "markdown",
   "metadata": {},
   "source": [
    "#### Randomized Search CV"
   ]
  },
  {
   "cell_type": "code",
   "execution_count": 69,
   "metadata": {},
   "outputs": [
    {
     "name": "stdout",
     "output_type": "stream",
     "text": [
      "{'learning_rate': 1, 'max_depth': 7, 'min_samples_leaf': 1, 'min_samples_split': 2, 'n_estimators': 90, 'subsample': 1.0}\n"
     ]
    }
   ],
   "source": [
    "param_grid = {\n",
    "    'n_estimators': randint(1, 200),\n",
    "    'learning_rate': randint(0, 10),\n",
    "    'max_depth': randint(1, 20),\n",
    "    'min_samples_split': randint(2, 20),\n",
    "    'min_samples_leaf': randint(1, 10),\n",
    "    'subsample': [0.8, 0.9, 1.0]\n",
    "}\n",
    "\n",
    "gbc = GradientBoostingClassifier(random_state = 42)\n",
    "random_search = RandomizedSearchCV(gbc, param_grid, cv=5)\n",
    "random_search.fit(X_train, y_train)\n",
    "best_params = random_search.best_params_\n",
    "print(best_params)"
   ]
  },
  {
   "cell_type": "code",
   "execution_count": 70,
   "metadata": {},
   "outputs": [
    {
     "name": "stdout",
     "output_type": "stream",
     "text": [
      "Validation Accuracy: 0.921875\n",
      "Train Accuracy: 1.0\n"
     ]
    }
   ],
   "source": [
    "gbc_rscv = GradientBoostingClassifier(**best_params, random_state=42)\n",
    "gbc_rscv.fit(X_train, y_train)\n",
    "\n",
    "gbc_rscv_val_pred = gbc_rscv.predict(X_val)\n",
    "gbc_rscv_train_pred = gbc_rscv.predict(X_train)\n",
    "\n",
    "accuracy_val_gbc_rscv = accuracy_score(y_val, gbc_rscv_val_pred)\n",
    "accuracy_train_gbc_rscv = accuracy_score(y_train, gbc_rscv_train_pred)\n",
    "\n",
    "print(f\"Validation Accuracy: {accuracy_val_gbc_rscv}\")\n",
    "print(f\"Train Accuracy: {accuracy_train_gbc_rscv}\")"
   ]
  },
  {
   "cell_type": "code",
   "execution_count": 83,
   "metadata": {},
   "outputs": [
    {
     "name": "stdout",
     "output_type": "stream",
     "text": [
      "Max accuracy: 0.921875 (from GradientBoostingClassifier(learning_rate=1, max_depth=7, n_estimators=90,\n",
      "                           random_state=42))\n",
      "Stored 'best_accuracy_gbc_model' (GradientBoostingClassifier)\n",
      "Stored 'max_accuracy_gbc' (float64)\n"
     ]
    }
   ],
   "source": [
    "# Dictionary to hold accuracy values and corresponding models\n",
    "accuracy_models_gbc = {\n",
    "    accuracy_val_gbc_gscv: gbc_gscv,\n",
    "    accuracy_val_gbc_rscv: gbc_rscv\n",
    "}\n",
    "\n",
    "# Get the maximum accuracy and the corresponding model variable name\n",
    "max_accuracy_gbc = max(accuracy_models_gbc)\n",
    "best_accuracy_gbc_model = accuracy_models_gbc[max_accuracy_gbc]\n",
    "\n",
    "# Print the maximum accuracy and the corresponding model variable name\n",
    "print(f\"Max accuracy: {max_accuracy_gbc} (from {best_accuracy_gbc_model})\")\n",
    "\n",
    "# Store the variable name of the best model\n",
    "%store best_accuracy_gbc_model\n",
    "%store max_accuracy_gbc"
   ]
  }
 ],
 "metadata": {
  "kernelspec": {
   "display_name": "Python 3",
   "language": "python",
   "name": "python3"
  },
  "language_info": {
   "codemirror_mode": {
    "name": "ipython",
    "version": 3
   },
   "file_extension": ".py",
   "mimetype": "text/x-python",
   "name": "python",
   "nbconvert_exporter": "python",
   "pygments_lexer": "ipython3",
   "version": "3.12.3"
  }
 },
 "nbformat": 4,
 "nbformat_minor": 2
}
